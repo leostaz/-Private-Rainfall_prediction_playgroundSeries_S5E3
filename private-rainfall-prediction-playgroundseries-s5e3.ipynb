{
 "cells": [
  {
   "cell_type": "code",
   "execution_count": 1,
   "id": "ac85bf01",
   "metadata": {
    "_cell_guid": "b1076dfc-b9ad-4769-8c92-a6c4dae69d19",
    "_uuid": "8f2839f25d086af736a60e9eeb907d3b93b6e0e5",
    "execution": {
     "iopub.execute_input": "2025-04-01T00:14:22.553043Z",
     "iopub.status.busy": "2025-04-01T00:14:22.552545Z",
     "iopub.status.idle": "2025-04-01T00:14:22.560624Z",
     "shell.execute_reply": "2025-04-01T00:14:22.559646Z"
    },
    "papermill": {
     "duration": 0.028382,
     "end_time": "2025-04-01T00:14:22.562602",
     "exception": false,
     "start_time": "2025-04-01T00:14:22.534220",
     "status": "completed"
    },
    "tags": []
   },
   "outputs": [
    {
     "name": "stdout",
     "output_type": "stream",
     "text": [
      "/kaggle/input/playground-series-s5e3/sample_submission.csv\n",
      "/kaggle/input/playground-series-s5e3/train.csv\n",
      "/kaggle/input/playground-series-s5e3/test.csv\n"
     ]
    }
   ],
   "source": [
    "import os\n",
    "for dirname, _, filenames in os.walk('/kaggle/input'):\n",
    "    for filename in filenames:\n",
    "        print(os.path.join(dirname, filename))\n",
    "\n",
    "import warnings\n",
    "warnings.filterwarnings(\"ignore\")"
   ]
  },
  {
   "cell_type": "markdown",
   "id": "2d21afa2",
   "metadata": {
    "papermill": {
     "duration": 0.015609,
     "end_time": "2025-04-01T00:14:22.594816",
     "exception": false,
     "start_time": "2025-04-01T00:14:22.579207",
     "status": "completed"
    },
    "tags": []
   },
   "source": [
    "# Libraries"
   ]
  },
  {
   "cell_type": "code",
   "execution_count": 2,
   "id": "07a8ea50",
   "metadata": {
    "execution": {
     "iopub.execute_input": "2025-04-01T00:14:22.628486Z",
     "iopub.status.busy": "2025-04-01T00:14:22.628132Z",
     "iopub.status.idle": "2025-04-01T00:14:27.121703Z",
     "shell.execute_reply": "2025-04-01T00:14:27.120590Z"
    },
    "papermill": {
     "duration": 4.512931,
     "end_time": "2025-04-01T00:14:27.123680",
     "exception": false,
     "start_time": "2025-04-01T00:14:22.610749",
     "status": "completed"
    },
    "tags": []
   },
   "outputs": [],
   "source": [
    "import numpy as np\n",
    "import pandas as pd\n",
    "import matplotlib as mpl\n",
    "import matplotlib.pyplot as plt\n",
    "import seaborn as sns\n",
    "import xgboost as xgb\n",
    "\n",
    "from sklearn.preprocessing import RobustScaler\n",
    "from sklearn.feature_selection import mutual_info_classif\n",
    "from sklearn.model_selection import (\n",
    "    train_test_split, GridSearchCV, StratifiedKFold\n",
    ")\n",
    "from sklearn.linear_model import LogisticRegression\n",
    "from sklearn.semi_supervised import LabelPropagation\n",
    "from catboost import CatBoostClassifier\n",
    "from scipy.stats import randint, uniform\n",
    "from sklearn.metrics import (\n",
    "    confusion_matrix, \n",
    "    classification_report, \n",
    "    f1_score, \n",
    "    accuracy_score, \n",
    "    roc_curve, \n",
    "    roc_auc_score\n",
    ")\n",
    "from imblearn.over_sampling import SMOTE, RandomOverSampler"
   ]
  },
  {
   "cell_type": "markdown",
   "id": "0654a63b",
   "metadata": {
    "papermill": {
     "duration": 0.015247,
     "end_time": "2025-04-01T00:14:27.154911",
     "exception": false,
     "start_time": "2025-04-01T00:14:27.139664",
     "status": "completed"
    },
    "tags": []
   },
   "source": [
    "# Binary Prediction with a Rainfall Dataset"
   ]
  },
  {
   "cell_type": "markdown",
   "id": "2984b19f",
   "metadata": {
    "papermill": {
     "duration": 0.015401,
     "end_time": "2025-04-01T00:14:27.186245",
     "exception": false,
     "start_time": "2025-04-01T00:14:27.170844",
     "status": "completed"
    },
    "tags": []
   },
   "source": [
    "Complete initial notebook (Public):\n",
    "\n",
    "https://www.kaggle.com/code/les1781/rainfall-prediction-playground-series-s5-e3#Binary-Prediction-with-a-Rainfall-Dataset"
   ]
  },
  {
   "cell_type": "code",
   "execution_count": 3,
   "id": "c4d7e2e2",
   "metadata": {
    "execution": {
     "iopub.execute_input": "2025-04-01T00:14:27.218671Z",
     "iopub.status.busy": "2025-04-01T00:14:27.218180Z",
     "iopub.status.idle": "2025-04-01T00:14:27.250585Z",
     "shell.execute_reply": "2025-04-01T00:14:27.249327Z"
    },
    "papermill": {
     "duration": 0.050923,
     "end_time": "2025-04-01T00:14:27.252592",
     "exception": false,
     "start_time": "2025-04-01T00:14:27.201669",
     "status": "completed"
    },
    "tags": []
   },
   "outputs": [],
   "source": [
    "# We load the data\n",
    "\n",
    "rainfall_train = pd.read_csv(\"/kaggle/input/playground-series-s5e3/train.csv\", index_col=\"id\")"
   ]
  },
  {
   "cell_type": "code",
   "execution_count": 4,
   "id": "029a634d",
   "metadata": {
    "execution": {
     "iopub.execute_input": "2025-04-01T00:14:27.285789Z",
     "iopub.status.busy": "2025-04-01T00:14:27.285451Z",
     "iopub.status.idle": "2025-04-01T00:14:27.317695Z",
     "shell.execute_reply": "2025-04-01T00:14:27.316495Z"
    },
    "papermill": {
     "duration": 0.050943,
     "end_time": "2025-04-01T00:14:27.319557",
     "exception": false,
     "start_time": "2025-04-01T00:14:27.268614",
     "status": "completed"
    },
    "tags": []
   },
   "outputs": [
    {
     "name": "stdout",
     "output_type": "stream",
     "text": [
      "Shape:  (2190, 12)\n"
     ]
    },
    {
     "data": {
      "text/html": [
       "<div>\n",
       "<style scoped>\n",
       "    .dataframe tbody tr th:only-of-type {\n",
       "        vertical-align: middle;\n",
       "    }\n",
       "\n",
       "    .dataframe tbody tr th {\n",
       "        vertical-align: top;\n",
       "    }\n",
       "\n",
       "    .dataframe thead th {\n",
       "        text-align: right;\n",
       "    }\n",
       "</style>\n",
       "<table border=\"1\" class=\"dataframe\">\n",
       "  <thead>\n",
       "    <tr style=\"text-align: right;\">\n",
       "      <th></th>\n",
       "      <th>day</th>\n",
       "      <th>pressure</th>\n",
       "      <th>maxtemp</th>\n",
       "      <th>temparature</th>\n",
       "      <th>mintemp</th>\n",
       "      <th>dewpoint</th>\n",
       "      <th>humidity</th>\n",
       "      <th>cloud</th>\n",
       "      <th>sunshine</th>\n",
       "      <th>winddirection</th>\n",
       "      <th>windspeed</th>\n",
       "      <th>rainfall</th>\n",
       "    </tr>\n",
       "    <tr>\n",
       "      <th>id</th>\n",
       "      <th></th>\n",
       "      <th></th>\n",
       "      <th></th>\n",
       "      <th></th>\n",
       "      <th></th>\n",
       "      <th></th>\n",
       "      <th></th>\n",
       "      <th></th>\n",
       "      <th></th>\n",
       "      <th></th>\n",
       "      <th></th>\n",
       "      <th></th>\n",
       "    </tr>\n",
       "  </thead>\n",
       "  <tbody>\n",
       "    <tr>\n",
       "      <th>0</th>\n",
       "      <td>1</td>\n",
       "      <td>1017.4</td>\n",
       "      <td>21.2</td>\n",
       "      <td>20.6</td>\n",
       "      <td>19.9</td>\n",
       "      <td>19.4</td>\n",
       "      <td>87.0</td>\n",
       "      <td>88.0</td>\n",
       "      <td>1.1</td>\n",
       "      <td>60.0</td>\n",
       "      <td>17.2</td>\n",
       "      <td>1</td>\n",
       "    </tr>\n",
       "    <tr>\n",
       "      <th>1</th>\n",
       "      <td>2</td>\n",
       "      <td>1019.5</td>\n",
       "      <td>16.2</td>\n",
       "      <td>16.9</td>\n",
       "      <td>15.8</td>\n",
       "      <td>15.4</td>\n",
       "      <td>95.0</td>\n",
       "      <td>91.0</td>\n",
       "      <td>0.0</td>\n",
       "      <td>50.0</td>\n",
       "      <td>21.9</td>\n",
       "      <td>1</td>\n",
       "    </tr>\n",
       "    <tr>\n",
       "      <th>2</th>\n",
       "      <td>3</td>\n",
       "      <td>1024.1</td>\n",
       "      <td>19.4</td>\n",
       "      <td>16.1</td>\n",
       "      <td>14.6</td>\n",
       "      <td>9.3</td>\n",
       "      <td>75.0</td>\n",
       "      <td>47.0</td>\n",
       "      <td>8.3</td>\n",
       "      <td>70.0</td>\n",
       "      <td>18.1</td>\n",
       "      <td>1</td>\n",
       "    </tr>\n",
       "    <tr>\n",
       "      <th>3</th>\n",
       "      <td>4</td>\n",
       "      <td>1013.4</td>\n",
       "      <td>18.1</td>\n",
       "      <td>17.8</td>\n",
       "      <td>16.9</td>\n",
       "      <td>16.8</td>\n",
       "      <td>95.0</td>\n",
       "      <td>95.0</td>\n",
       "      <td>0.0</td>\n",
       "      <td>60.0</td>\n",
       "      <td>35.6</td>\n",
       "      <td>1</td>\n",
       "    </tr>\n",
       "    <tr>\n",
       "      <th>4</th>\n",
       "      <td>5</td>\n",
       "      <td>1021.8</td>\n",
       "      <td>21.3</td>\n",
       "      <td>18.4</td>\n",
       "      <td>15.2</td>\n",
       "      <td>9.6</td>\n",
       "      <td>52.0</td>\n",
       "      <td>45.0</td>\n",
       "      <td>3.6</td>\n",
       "      <td>40.0</td>\n",
       "      <td>24.8</td>\n",
       "      <td>0</td>\n",
       "    </tr>\n",
       "  </tbody>\n",
       "</table>\n",
       "</div>"
      ],
      "text/plain": [
       "    day  pressure  maxtemp  temparature  mintemp  dewpoint  humidity  cloud  \\\n",
       "id                                                                            \n",
       "0     1    1017.4     21.2         20.6     19.9      19.4      87.0   88.0   \n",
       "1     2    1019.5     16.2         16.9     15.8      15.4      95.0   91.0   \n",
       "2     3    1024.1     19.4         16.1     14.6       9.3      75.0   47.0   \n",
       "3     4    1013.4     18.1         17.8     16.9      16.8      95.0   95.0   \n",
       "4     5    1021.8     21.3         18.4     15.2       9.6      52.0   45.0   \n",
       "\n",
       "    sunshine  winddirection  windspeed  rainfall  \n",
       "id                                                \n",
       "0        1.1           60.0       17.2         1  \n",
       "1        0.0           50.0       21.9         1  \n",
       "2        8.3           70.0       18.1         1  \n",
       "3        0.0           60.0       35.6         1  \n",
       "4        3.6           40.0       24.8         0  "
      ]
     },
     "execution_count": 4,
     "metadata": {},
     "output_type": "execute_result"
    }
   ],
   "source": [
    "print(\"Shape: \", rainfall_train.shape)\n",
    "rainfall_train.head()"
   ]
  },
  {
   "cell_type": "code",
   "execution_count": 5,
   "id": "3134d9b8",
   "metadata": {
    "execution": {
     "iopub.execute_input": "2025-04-01T00:14:27.354001Z",
     "iopub.status.busy": "2025-04-01T00:14:27.353666Z",
     "iopub.status.idle": "2025-04-01T00:14:27.402110Z",
     "shell.execute_reply": "2025-04-01T00:14:27.400695Z"
    },
    "papermill": {
     "duration": 0.068539,
     "end_time": "2025-04-01T00:14:27.404151",
     "exception": false,
     "start_time": "2025-04-01T00:14:27.335612",
     "status": "completed"
    },
    "tags": []
   },
   "outputs": [
    {
     "data": {
      "text/html": [
       "<div>\n",
       "<style scoped>\n",
       "    .dataframe tbody tr th:only-of-type {\n",
       "        vertical-align: middle;\n",
       "    }\n",
       "\n",
       "    .dataframe tbody tr th {\n",
       "        vertical-align: top;\n",
       "    }\n",
       "\n",
       "    .dataframe thead th {\n",
       "        text-align: right;\n",
       "    }\n",
       "</style>\n",
       "<table border=\"1\" class=\"dataframe\">\n",
       "  <thead>\n",
       "    <tr style=\"text-align: right;\">\n",
       "      <th></th>\n",
       "      <th>day</th>\n",
       "      <th>pressure</th>\n",
       "      <th>maxtemp</th>\n",
       "      <th>temparature</th>\n",
       "      <th>mintemp</th>\n",
       "      <th>dewpoint</th>\n",
       "      <th>humidity</th>\n",
       "      <th>cloud</th>\n",
       "      <th>sunshine</th>\n",
       "      <th>winddirection</th>\n",
       "      <th>windspeed</th>\n",
       "      <th>rainfall</th>\n",
       "    </tr>\n",
       "  </thead>\n",
       "  <tbody>\n",
       "    <tr>\n",
       "      <th>count</th>\n",
       "      <td>2190.000000</td>\n",
       "      <td>2190.000000</td>\n",
       "      <td>2190.000000</td>\n",
       "      <td>2190.000000</td>\n",
       "      <td>2190.000000</td>\n",
       "      <td>2190.000000</td>\n",
       "      <td>2190.000000</td>\n",
       "      <td>2190.000000</td>\n",
       "      <td>2190.000000</td>\n",
       "      <td>2190.000000</td>\n",
       "      <td>2190.000000</td>\n",
       "      <td>2190.000000</td>\n",
       "    </tr>\n",
       "    <tr>\n",
       "      <th>mean</th>\n",
       "      <td>179.948402</td>\n",
       "      <td>1013.602146</td>\n",
       "      <td>26.365799</td>\n",
       "      <td>23.953059</td>\n",
       "      <td>22.170091</td>\n",
       "      <td>20.454566</td>\n",
       "      <td>82.036530</td>\n",
       "      <td>75.721918</td>\n",
       "      <td>3.744429</td>\n",
       "      <td>104.863151</td>\n",
       "      <td>21.804703</td>\n",
       "      <td>0.753425</td>\n",
       "    </tr>\n",
       "    <tr>\n",
       "      <th>std</th>\n",
       "      <td>105.203592</td>\n",
       "      <td>5.655366</td>\n",
       "      <td>5.654330</td>\n",
       "      <td>5.222410</td>\n",
       "      <td>5.059120</td>\n",
       "      <td>5.288406</td>\n",
       "      <td>7.800654</td>\n",
       "      <td>18.026498</td>\n",
       "      <td>3.626327</td>\n",
       "      <td>80.002416</td>\n",
       "      <td>9.898659</td>\n",
       "      <td>0.431116</td>\n",
       "    </tr>\n",
       "    <tr>\n",
       "      <th>min</th>\n",
       "      <td>1.000000</td>\n",
       "      <td>999.000000</td>\n",
       "      <td>10.400000</td>\n",
       "      <td>7.400000</td>\n",
       "      <td>4.000000</td>\n",
       "      <td>-0.300000</td>\n",
       "      <td>39.000000</td>\n",
       "      <td>2.000000</td>\n",
       "      <td>0.000000</td>\n",
       "      <td>10.000000</td>\n",
       "      <td>4.400000</td>\n",
       "      <td>0.000000</td>\n",
       "    </tr>\n",
       "    <tr>\n",
       "      <th>25%</th>\n",
       "      <td>89.000000</td>\n",
       "      <td>1008.600000</td>\n",
       "      <td>21.300000</td>\n",
       "      <td>19.300000</td>\n",
       "      <td>17.700000</td>\n",
       "      <td>16.800000</td>\n",
       "      <td>77.000000</td>\n",
       "      <td>69.000000</td>\n",
       "      <td>0.400000</td>\n",
       "      <td>40.000000</td>\n",
       "      <td>14.125000</td>\n",
       "      <td>1.000000</td>\n",
       "    </tr>\n",
       "    <tr>\n",
       "      <th>50%</th>\n",
       "      <td>178.500000</td>\n",
       "      <td>1013.000000</td>\n",
       "      <td>27.800000</td>\n",
       "      <td>25.500000</td>\n",
       "      <td>23.850000</td>\n",
       "      <td>22.150000</td>\n",
       "      <td>82.000000</td>\n",
       "      <td>83.000000</td>\n",
       "      <td>2.400000</td>\n",
       "      <td>70.000000</td>\n",
       "      <td>20.500000</td>\n",
       "      <td>1.000000</td>\n",
       "    </tr>\n",
       "    <tr>\n",
       "      <th>75%</th>\n",
       "      <td>270.000000</td>\n",
       "      <td>1017.775000</td>\n",
       "      <td>31.200000</td>\n",
       "      <td>28.400000</td>\n",
       "      <td>26.400000</td>\n",
       "      <td>25.000000</td>\n",
       "      <td>88.000000</td>\n",
       "      <td>88.000000</td>\n",
       "      <td>6.800000</td>\n",
       "      <td>200.000000</td>\n",
       "      <td>27.900000</td>\n",
       "      <td>1.000000</td>\n",
       "    </tr>\n",
       "    <tr>\n",
       "      <th>max</th>\n",
       "      <td>365.000000</td>\n",
       "      <td>1034.600000</td>\n",
       "      <td>36.000000</td>\n",
       "      <td>31.500000</td>\n",
       "      <td>29.800000</td>\n",
       "      <td>26.700000</td>\n",
       "      <td>98.000000</td>\n",
       "      <td>100.000000</td>\n",
       "      <td>12.100000</td>\n",
       "      <td>300.000000</td>\n",
       "      <td>59.500000</td>\n",
       "      <td>1.000000</td>\n",
       "    </tr>\n",
       "  </tbody>\n",
       "</table>\n",
       "</div>"
      ],
      "text/plain": [
       "               day     pressure      maxtemp  temparature      mintemp  \\\n",
       "count  2190.000000  2190.000000  2190.000000  2190.000000  2190.000000   \n",
       "mean    179.948402  1013.602146    26.365799    23.953059    22.170091   \n",
       "std     105.203592     5.655366     5.654330     5.222410     5.059120   \n",
       "min       1.000000   999.000000    10.400000     7.400000     4.000000   \n",
       "25%      89.000000  1008.600000    21.300000    19.300000    17.700000   \n",
       "50%     178.500000  1013.000000    27.800000    25.500000    23.850000   \n",
       "75%     270.000000  1017.775000    31.200000    28.400000    26.400000   \n",
       "max     365.000000  1034.600000    36.000000    31.500000    29.800000   \n",
       "\n",
       "          dewpoint     humidity        cloud     sunshine  winddirection  \\\n",
       "count  2190.000000  2190.000000  2190.000000  2190.000000    2190.000000   \n",
       "mean     20.454566    82.036530    75.721918     3.744429     104.863151   \n",
       "std       5.288406     7.800654    18.026498     3.626327      80.002416   \n",
       "min      -0.300000    39.000000     2.000000     0.000000      10.000000   \n",
       "25%      16.800000    77.000000    69.000000     0.400000      40.000000   \n",
       "50%      22.150000    82.000000    83.000000     2.400000      70.000000   \n",
       "75%      25.000000    88.000000    88.000000     6.800000     200.000000   \n",
       "max      26.700000    98.000000   100.000000    12.100000     300.000000   \n",
       "\n",
       "         windspeed     rainfall  \n",
       "count  2190.000000  2190.000000  \n",
       "mean     21.804703     0.753425  \n",
       "std       9.898659     0.431116  \n",
       "min       4.400000     0.000000  \n",
       "25%      14.125000     1.000000  \n",
       "50%      20.500000     1.000000  \n",
       "75%      27.900000     1.000000  \n",
       "max      59.500000     1.000000  "
      ]
     },
     "execution_count": 5,
     "metadata": {},
     "output_type": "execute_result"
    }
   ],
   "source": [
    "rainfall_train.describe()"
   ]
  },
  {
   "cell_type": "code",
   "execution_count": 6,
   "id": "e3480e50",
   "metadata": {
    "execution": {
     "iopub.execute_input": "2025-04-01T00:14:27.443814Z",
     "iopub.status.busy": "2025-04-01T00:14:27.443477Z",
     "iopub.status.idle": "2025-04-01T00:14:27.461901Z",
     "shell.execute_reply": "2025-04-01T00:14:27.460549Z"
    },
    "papermill": {
     "duration": 0.037978,
     "end_time": "2025-04-01T00:14:27.463928",
     "exception": false,
     "start_time": "2025-04-01T00:14:27.425950",
     "status": "completed"
    },
    "tags": []
   },
   "outputs": [
    {
     "name": "stdout",
     "output_type": "stream",
     "text": [
      "<class 'pandas.core.frame.DataFrame'>\n",
      "Index: 2190 entries, 0 to 2189\n",
      "Data columns (total 12 columns):\n",
      " #   Column         Non-Null Count  Dtype  \n",
      "---  ------         --------------  -----  \n",
      " 0   day            2190 non-null   int64  \n",
      " 1   pressure       2190 non-null   float64\n",
      " 2   maxtemp        2190 non-null   float64\n",
      " 3   temparature    2190 non-null   float64\n",
      " 4   mintemp        2190 non-null   float64\n",
      " 5   dewpoint       2190 non-null   float64\n",
      " 6   humidity       2190 non-null   float64\n",
      " 7   cloud          2190 non-null   float64\n",
      " 8   sunshine       2190 non-null   float64\n",
      " 9   winddirection  2190 non-null   float64\n",
      " 10  windspeed      2190 non-null   float64\n",
      " 11  rainfall       2190 non-null   int64  \n",
      "dtypes: float64(10), int64(2)\n",
      "memory usage: 222.4 KB\n"
     ]
    }
   ],
   "source": [
    "rainfall_train.info()"
   ]
  },
  {
   "cell_type": "markdown",
   "id": "33b49aef",
   "metadata": {
    "papermill": {
     "duration": 0.023381,
     "end_time": "2025-04-01T00:14:27.507656",
     "exception": false,
     "start_time": "2025-04-01T00:14:27.484275",
     "status": "completed"
    },
    "tags": []
   },
   "source": [
    "# Encoding And Scaling"
   ]
  },
  {
   "cell_type": "code",
   "execution_count": 7,
   "id": "992f6f96",
   "metadata": {
    "execution": {
     "iopub.execute_input": "2025-04-01T00:14:27.551700Z",
     "iopub.status.busy": "2025-04-01T00:14:27.551156Z",
     "iopub.status.idle": "2025-04-01T00:14:27.558300Z",
     "shell.execute_reply": "2025-04-01T00:14:27.557034Z"
    },
    "papermill": {
     "duration": 0.028153,
     "end_time": "2025-04-01T00:14:27.560675",
     "exception": false,
     "start_time": "2025-04-01T00:14:27.532522",
     "status": "completed"
    },
    "tags": []
   },
   "outputs": [],
   "source": [
    "rainfall_end = rainfall_train.drop([\"day\"], axis=1)"
   ]
  },
  {
   "cell_type": "code",
   "execution_count": 8,
   "id": "348515ef",
   "metadata": {
    "execution": {
     "iopub.execute_input": "2025-04-01T00:14:27.598194Z",
     "iopub.status.busy": "2025-04-01T00:14:27.597796Z",
     "iopub.status.idle": "2025-04-01T00:14:27.636107Z",
     "shell.execute_reply": "2025-04-01T00:14:27.634964Z"
    },
    "papermill": {
     "duration": 0.058783,
     "end_time": "2025-04-01T00:14:27.638149",
     "exception": false,
     "start_time": "2025-04-01T00:14:27.579366",
     "status": "completed"
    },
    "tags": []
   },
   "outputs": [
    {
     "data": {
      "text/html": [
       "<div>\n",
       "<style scoped>\n",
       "    .dataframe tbody tr th:only-of-type {\n",
       "        vertical-align: middle;\n",
       "    }\n",
       "\n",
       "    .dataframe tbody tr th {\n",
       "        vertical-align: top;\n",
       "    }\n",
       "\n",
       "    .dataframe thead th {\n",
       "        text-align: right;\n",
       "    }\n",
       "</style>\n",
       "<table border=\"1\" class=\"dataframe\">\n",
       "  <thead>\n",
       "    <tr style=\"text-align: right;\">\n",
       "      <th></th>\n",
       "      <th>count</th>\n",
       "      <th>mean</th>\n",
       "      <th>std</th>\n",
       "      <th>min</th>\n",
       "      <th>25%</th>\n",
       "      <th>50%</th>\n",
       "      <th>75%</th>\n",
       "      <th>max</th>\n",
       "    </tr>\n",
       "  </thead>\n",
       "  <tbody>\n",
       "    <tr>\n",
       "      <th>pressure</th>\n",
       "      <td>2190.0</td>\n",
       "      <td>1013.602146</td>\n",
       "      <td>5.655366</td>\n",
       "      <td>999.0</td>\n",
       "      <td>1008.600</td>\n",
       "      <td>1013.00</td>\n",
       "      <td>1017.775</td>\n",
       "      <td>1034.6</td>\n",
       "    </tr>\n",
       "    <tr>\n",
       "      <th>maxtemp</th>\n",
       "      <td>2190.0</td>\n",
       "      <td>26.365799</td>\n",
       "      <td>5.654330</td>\n",
       "      <td>10.4</td>\n",
       "      <td>21.300</td>\n",
       "      <td>27.80</td>\n",
       "      <td>31.200</td>\n",
       "      <td>36.0</td>\n",
       "    </tr>\n",
       "    <tr>\n",
       "      <th>temparature</th>\n",
       "      <td>2190.0</td>\n",
       "      <td>23.953059</td>\n",
       "      <td>5.222410</td>\n",
       "      <td>7.4</td>\n",
       "      <td>19.300</td>\n",
       "      <td>25.50</td>\n",
       "      <td>28.400</td>\n",
       "      <td>31.5</td>\n",
       "    </tr>\n",
       "    <tr>\n",
       "      <th>mintemp</th>\n",
       "      <td>2190.0</td>\n",
       "      <td>22.170091</td>\n",
       "      <td>5.059120</td>\n",
       "      <td>4.0</td>\n",
       "      <td>17.700</td>\n",
       "      <td>23.85</td>\n",
       "      <td>26.400</td>\n",
       "      <td>29.8</td>\n",
       "    </tr>\n",
       "    <tr>\n",
       "      <th>dewpoint</th>\n",
       "      <td>2190.0</td>\n",
       "      <td>20.454566</td>\n",
       "      <td>5.288406</td>\n",
       "      <td>-0.3</td>\n",
       "      <td>16.800</td>\n",
       "      <td>22.15</td>\n",
       "      <td>25.000</td>\n",
       "      <td>26.7</td>\n",
       "    </tr>\n",
       "    <tr>\n",
       "      <th>humidity</th>\n",
       "      <td>2190.0</td>\n",
       "      <td>82.036530</td>\n",
       "      <td>7.800654</td>\n",
       "      <td>39.0</td>\n",
       "      <td>77.000</td>\n",
       "      <td>82.00</td>\n",
       "      <td>88.000</td>\n",
       "      <td>98.0</td>\n",
       "    </tr>\n",
       "    <tr>\n",
       "      <th>cloud</th>\n",
       "      <td>2190.0</td>\n",
       "      <td>75.721918</td>\n",
       "      <td>18.026498</td>\n",
       "      <td>2.0</td>\n",
       "      <td>69.000</td>\n",
       "      <td>83.00</td>\n",
       "      <td>88.000</td>\n",
       "      <td>100.0</td>\n",
       "    </tr>\n",
       "    <tr>\n",
       "      <th>sunshine</th>\n",
       "      <td>2190.0</td>\n",
       "      <td>3.744429</td>\n",
       "      <td>3.626327</td>\n",
       "      <td>0.0</td>\n",
       "      <td>0.400</td>\n",
       "      <td>2.40</td>\n",
       "      <td>6.800</td>\n",
       "      <td>12.1</td>\n",
       "    </tr>\n",
       "    <tr>\n",
       "      <th>winddirection</th>\n",
       "      <td>2190.0</td>\n",
       "      <td>104.863151</td>\n",
       "      <td>80.002416</td>\n",
       "      <td>10.0</td>\n",
       "      <td>40.000</td>\n",
       "      <td>70.00</td>\n",
       "      <td>200.000</td>\n",
       "      <td>300.0</td>\n",
       "    </tr>\n",
       "    <tr>\n",
       "      <th>windspeed</th>\n",
       "      <td>2190.0</td>\n",
       "      <td>21.804703</td>\n",
       "      <td>9.898659</td>\n",
       "      <td>4.4</td>\n",
       "      <td>14.125</td>\n",
       "      <td>20.50</td>\n",
       "      <td>27.900</td>\n",
       "      <td>59.5</td>\n",
       "    </tr>\n",
       "    <tr>\n",
       "      <th>rainfall</th>\n",
       "      <td>2190.0</td>\n",
       "      <td>0.753425</td>\n",
       "      <td>0.431116</td>\n",
       "      <td>0.0</td>\n",
       "      <td>1.000</td>\n",
       "      <td>1.00</td>\n",
       "      <td>1.000</td>\n",
       "      <td>1.0</td>\n",
       "    </tr>\n",
       "  </tbody>\n",
       "</table>\n",
       "</div>"
      ],
      "text/plain": [
       "                count         mean        std    min       25%      50%  \\\n",
       "pressure       2190.0  1013.602146   5.655366  999.0  1008.600  1013.00   \n",
       "maxtemp        2190.0    26.365799   5.654330   10.4    21.300    27.80   \n",
       "temparature    2190.0    23.953059   5.222410    7.4    19.300    25.50   \n",
       "mintemp        2190.0    22.170091   5.059120    4.0    17.700    23.85   \n",
       "dewpoint       2190.0    20.454566   5.288406   -0.3    16.800    22.15   \n",
       "humidity       2190.0    82.036530   7.800654   39.0    77.000    82.00   \n",
       "cloud          2190.0    75.721918  18.026498    2.0    69.000    83.00   \n",
       "sunshine       2190.0     3.744429   3.626327    0.0     0.400     2.40   \n",
       "winddirection  2190.0   104.863151  80.002416   10.0    40.000    70.00   \n",
       "windspeed      2190.0    21.804703   9.898659    4.4    14.125    20.50   \n",
       "rainfall       2190.0     0.753425   0.431116    0.0     1.000     1.00   \n",
       "\n",
       "                    75%     max  \n",
       "pressure       1017.775  1034.6  \n",
       "maxtemp          31.200    36.0  \n",
       "temparature      28.400    31.5  \n",
       "mintemp          26.400    29.8  \n",
       "dewpoint         25.000    26.7  \n",
       "humidity         88.000    98.0  \n",
       "cloud            88.000   100.0  \n",
       "sunshine          6.800    12.1  \n",
       "winddirection   200.000   300.0  \n",
       "windspeed        27.900    59.5  \n",
       "rainfall          1.000     1.0  "
      ]
     },
     "execution_count": 8,
     "metadata": {},
     "output_type": "execute_result"
    }
   ],
   "source": [
    "rainfall_end.describe().T"
   ]
  },
  {
   "cell_type": "code",
   "execution_count": 9,
   "id": "52a5b09c",
   "metadata": {
    "execution": {
     "iopub.execute_input": "2025-04-01T00:14:27.678452Z",
     "iopub.status.busy": "2025-04-01T00:14:27.677992Z",
     "iopub.status.idle": "2025-04-01T00:14:27.815393Z",
     "shell.execute_reply": "2025-04-01T00:14:27.814115Z"
    },
    "papermill": {
     "duration": 0.161906,
     "end_time": "2025-04-01T00:14:27.817181",
     "exception": false,
     "start_time": "2025-04-01T00:14:27.655275",
     "status": "completed"
    },
    "tags": []
   },
   "outputs": [
    {
     "data": {
      "text/html": [
       "<style type=\"text/css\">\n",
       "#T_e4fc9_row0_col0, #T_e4fc9_row1_col1, #T_e4fc9_row2_col2, #T_e4fc9_row3_col3, #T_e4fc9_row4_col4, #T_e4fc9_row5_col5, #T_e4fc9_row6_col6, #T_e4fc9_row7_col7, #T_e4fc9_row8_col8, #T_e4fc9_row9_col9, #T_e4fc9_row10_col10 {\n",
       "  background-color: #00441b;\n",
       "  color: #f1f1f1;\n",
       "}\n",
       "#T_e4fc9_row0_col1, #T_e4fc9_row0_col2, #T_e4fc9_row0_col3, #T_e4fc9_row0_col4, #T_e4fc9_row0_col8, #T_e4fc9_row1_col9, #T_e4fc9_row2_col0, #T_e4fc9_row3_col0, #T_e4fc9_row4_col0, #T_e4fc9_row6_col7, #T_e4fc9_row7_col5, #T_e4fc9_row7_col6, #T_e4fc9_row7_col10 {\n",
       "  background-color: #f7fcf5;\n",
       "  color: #000000;\n",
       "}\n",
       "#T_e4fc9_row0_col5, #T_e4fc9_row9_col8 {\n",
       "  background-color: #c0e6b9;\n",
       "  color: #000000;\n",
       "}\n",
       "#T_e4fc9_row0_col6 {\n",
       "  background-color: #73c476;\n",
       "  color: #000000;\n",
       "}\n",
       "#T_e4fc9_row0_col7, #T_e4fc9_row1_col5 {\n",
       "  background-color: #b7e2b1;\n",
       "  color: #000000;\n",
       "}\n",
       "#T_e4fc9_row0_col9 {\n",
       "  background-color: #83cb82;\n",
       "  color: #000000;\n",
       "}\n",
       "#T_e4fc9_row0_col10, #T_e4fc9_row2_col10, #T_e4fc9_row3_col6, #T_e4fc9_row6_col3 {\n",
       "  background-color: #b0dfaa;\n",
       "  color: #000000;\n",
       "}\n",
       "#T_e4fc9_row1_col0, #T_e4fc9_row2_col9 {\n",
       "  background-color: #f6fcf4;\n",
       "  color: #000000;\n",
       "}\n",
       "#T_e4fc9_row1_col2, #T_e4fc9_row2_col1 {\n",
       "  background-color: #00471c;\n",
       "  color: #f1f1f1;\n",
       "}\n",
       "#T_e4fc9_row1_col3, #T_e4fc9_row3_col1 {\n",
       "  background-color: #00491d;\n",
       "  color: #f1f1f1;\n",
       "}\n",
       "#T_e4fc9_row1_col4, #T_e4fc9_row4_col1 {\n",
       "  background-color: #005522;\n",
       "  color: #f1f1f1;\n",
       "}\n",
       "#T_e4fc9_row1_col6 {\n",
       "  background-color: #bce4b5;\n",
       "  color: #000000;\n",
       "}\n",
       "#T_e4fc9_row1_col7, #T_e4fc9_row7_col1 {\n",
       "  background-color: #2f984f;\n",
       "  color: #f1f1f1;\n",
       "}\n",
       "#T_e4fc9_row1_col8, #T_e4fc9_row3_col8 {\n",
       "  background-color: #16803c;\n",
       "  color: #f1f1f1;\n",
       "}\n",
       "#T_e4fc9_row1_col10, #T_e4fc9_row2_col6, #T_e4fc9_row5_col9, #T_e4fc9_row7_col0 {\n",
       "  background-color: #b6e2af;\n",
       "  color: #000000;\n",
       "}\n",
       "#T_e4fc9_row2_col3, #T_e4fc9_row3_col2 {\n",
       "  background-color: #00451c;\n",
       "  color: #f1f1f1;\n",
       "}\n",
       "#T_e4fc9_row2_col4, #T_e4fc9_row4_col2 {\n",
       "  background-color: #005020;\n",
       "  color: #f1f1f1;\n",
       "}\n",
       "#T_e4fc9_row2_col5 {\n",
       "  background-color: #aedea7;\n",
       "  color: #000000;\n",
       "}\n",
       "#T_e4fc9_row2_col7 {\n",
       "  background-color: #359e53;\n",
       "  color: #f1f1f1;\n",
       "}\n",
       "#T_e4fc9_row2_col8 {\n",
       "  background-color: #157f3b;\n",
       "  color: #f1f1f1;\n",
       "}\n",
       "#T_e4fc9_row3_col4, #T_e4fc9_row4_col3 {\n",
       "  background-color: #004e1f;\n",
       "  color: #f1f1f1;\n",
       "}\n",
       "#T_e4fc9_row3_col5 {\n",
       "  background-color: #a7dba0;\n",
       "  color: #000000;\n",
       "}\n",
       "#T_e4fc9_row3_col7, #T_e4fc9_row7_col3 {\n",
       "  background-color: #39a257;\n",
       "  color: #f1f1f1;\n",
       "}\n",
       "#T_e4fc9_row3_col9 {\n",
       "  background-color: #f5fbf2;\n",
       "  color: #000000;\n",
       "}\n",
       "#T_e4fc9_row3_col10 {\n",
       "  background-color: #acdea6;\n",
       "  color: #000000;\n",
       "}\n",
       "#T_e4fc9_row4_col5 {\n",
       "  background-color: #86cc85;\n",
       "  color: #000000;\n",
       "}\n",
       "#T_e4fc9_row4_col6, #T_e4fc9_row6_col9 {\n",
       "  background-color: #99d595;\n",
       "  color: #000000;\n",
       "}\n",
       "#T_e4fc9_row4_col7 {\n",
       "  background-color: #52b365;\n",
       "  color: #f1f1f1;\n",
       "}\n",
       "#T_e4fc9_row4_col8 {\n",
       "  background-color: #19833e;\n",
       "  color: #f1f1f1;\n",
       "}\n",
       "#T_e4fc9_row4_col9 {\n",
       "  background-color: #f3faf0;\n",
       "  color: #000000;\n",
       "}\n",
       "#T_e4fc9_row4_col10 {\n",
       "  background-color: #95d391;\n",
       "  color: #000000;\n",
       "}\n",
       "#T_e4fc9_row5_col0, #T_e4fc9_row5_col8 {\n",
       "  background-color: #9ed798;\n",
       "  color: #000000;\n",
       "}\n",
       "#T_e4fc9_row5_col1 {\n",
       "  background-color: #97d492;\n",
       "  color: #000000;\n",
       "}\n",
       "#T_e4fc9_row5_col2, #T_e4fc9_row10_col3 {\n",
       "  background-color: #8bcf89;\n",
       "  color: #000000;\n",
       "}\n",
       "#T_e4fc9_row5_col3 {\n",
       "  background-color: #84cc83;\n",
       "  color: #000000;\n",
       "}\n",
       "#T_e4fc9_row5_col4 {\n",
       "  background-color: #66bd6f;\n",
       "  color: #f1f1f1;\n",
       "}\n",
       "#T_e4fc9_row5_col6 {\n",
       "  background-color: #1d8640;\n",
       "  color: #f1f1f1;\n",
       "}\n",
       "#T_e4fc9_row5_col7 {\n",
       "  background-color: #e0f3db;\n",
       "  color: #000000;\n",
       "}\n",
       "#T_e4fc9_row5_col10 {\n",
       "  background-color: #3ba458;\n",
       "  color: #f1f1f1;\n",
       "}\n",
       "#T_e4fc9_row6_col0 {\n",
       "  background-color: #72c375;\n",
       "  color: #000000;\n",
       "}\n",
       "#T_e4fc9_row6_col1 {\n",
       "  background-color: #bde5b6;\n",
       "  color: #000000;\n",
       "}\n",
       "#T_e4fc9_row6_col2, #T_e4fc9_row9_col7 {\n",
       "  background-color: #b5e1ae;\n",
       "  color: #000000;\n",
       "}\n",
       "#T_e4fc9_row6_col4, #T_e4fc9_row10_col1 {\n",
       "  background-color: #98d594;\n",
       "  color: #000000;\n",
       "}\n",
       "#T_e4fc9_row6_col5 {\n",
       "  background-color: #278f48;\n",
       "  color: #f1f1f1;\n",
       "}\n",
       "#T_e4fc9_row6_col8 {\n",
       "  background-color: #b4e1ad;\n",
       "  color: #000000;\n",
       "}\n",
       "#T_e4fc9_row6_col10 {\n",
       "  background-color: #1e8741;\n",
       "  color: #f1f1f1;\n",
       "}\n",
       "#T_e4fc9_row7_col2 {\n",
       "  background-color: #349d53;\n",
       "  color: #f1f1f1;\n",
       "}\n",
       "#T_e4fc9_row7_col4 {\n",
       "  background-color: #50b264;\n",
       "  color: #f1f1f1;\n",
       "}\n",
       "#T_e4fc9_row7_col8 {\n",
       "  background-color: #5db96b;\n",
       "  color: #f1f1f1;\n",
       "}\n",
       "#T_e4fc9_row7_col9 {\n",
       "  background-color: #ebf7e7;\n",
       "  color: #000000;\n",
       "}\n",
       "#T_e4fc9_row8_col0 {\n",
       "  background-color: #e9f7e5;\n",
       "  color: #000000;\n",
       "}\n",
       "#T_e4fc9_row8_col1 {\n",
       "  background-color: #127c39;\n",
       "  color: #f1f1f1;\n",
       "}\n",
       "#T_e4fc9_row8_col2 {\n",
       "  background-color: #107a37;\n",
       "  color: #f1f1f1;\n",
       "}\n",
       "#T_e4fc9_row8_col3 {\n",
       "  background-color: #117b38;\n",
       "  color: #f1f1f1;\n",
       "}\n",
       "#T_e4fc9_row8_col4, #T_e4fc9_row10_col6 {\n",
       "  background-color: #147e3a;\n",
       "  color: #f1f1f1;\n",
       "}\n",
       "#T_e4fc9_row8_col5 {\n",
       "  background-color: #abdda5;\n",
       "  color: #000000;\n",
       "}\n",
       "#T_e4fc9_row8_col6 {\n",
       "  background-color: #a0d99b;\n",
       "  color: #000000;\n",
       "}\n",
       "#T_e4fc9_row8_col7, #T_e4fc9_row9_col0 {\n",
       "  background-color: #4db163;\n",
       "  color: #f1f1f1;\n",
       "}\n",
       "#T_e4fc9_row8_col9 {\n",
       "  background-color: #e6f5e1;\n",
       "  color: #000000;\n",
       "}\n",
       "#T_e4fc9_row8_col10 {\n",
       "  background-color: #a8dca2;\n",
       "  color: #000000;\n",
       "}\n",
       "#T_e4fc9_row9_col1 {\n",
       "  background-color: #c8e9c1;\n",
       "  color: #000000;\n",
       "}\n",
       "#T_e4fc9_row9_col2 {\n",
       "  background-color: #c4e8bd;\n",
       "  color: #000000;\n",
       "}\n",
       "#T_e4fc9_row9_col3 {\n",
       "  background-color: #c2e7bb;\n",
       "  color: #000000;\n",
       "}\n",
       "#T_e4fc9_row9_col4 {\n",
       "  background-color: #bee5b8;\n",
       "  color: #000000;\n",
       "}\n",
       "#T_e4fc9_row9_col5 {\n",
       "  background-color: #9bd696;\n",
       "  color: #000000;\n",
       "}\n",
       "#T_e4fc9_row9_col6 {\n",
       "  background-color: #60ba6c;\n",
       "  color: #f1f1f1;\n",
       "}\n",
       "#T_e4fc9_row9_col10 {\n",
       "  background-color: #8ed08b;\n",
       "  color: #000000;\n",
       "}\n",
       "#T_e4fc9_row10_col0, #T_e4fc9_row10_col2 {\n",
       "  background-color: #90d18d;\n",
       "  color: #000000;\n",
       "}\n",
       "#T_e4fc9_row10_col4 {\n",
       "  background-color: #76c578;\n",
       "  color: #000000;\n",
       "}\n",
       "#T_e4fc9_row10_col5 {\n",
       "  background-color: #3ca559;\n",
       "  color: #f1f1f1;\n",
       "}\n",
       "#T_e4fc9_row10_col7 {\n",
       "  background-color: #e2f4dd;\n",
       "  color: #000000;\n",
       "}\n",
       "#T_e4fc9_row10_col8 {\n",
       "  background-color: #9cd797;\n",
       "  color: #000000;\n",
       "}\n",
       "#T_e4fc9_row10_col9 {\n",
       "  background-color: #aadda4;\n",
       "  color: #000000;\n",
       "}\n",
       "</style>\n",
       "<table id=\"T_e4fc9\">\n",
       "  <thead>\n",
       "    <tr>\n",
       "      <th class=\"blank level0\" >&nbsp;</th>\n",
       "      <th id=\"T_e4fc9_level0_col0\" class=\"col_heading level0 col0\" >pressure</th>\n",
       "      <th id=\"T_e4fc9_level0_col1\" class=\"col_heading level0 col1\" >maxtemp</th>\n",
       "      <th id=\"T_e4fc9_level0_col2\" class=\"col_heading level0 col2\" >temparature</th>\n",
       "      <th id=\"T_e4fc9_level0_col3\" class=\"col_heading level0 col3\" >mintemp</th>\n",
       "      <th id=\"T_e4fc9_level0_col4\" class=\"col_heading level0 col4\" >dewpoint</th>\n",
       "      <th id=\"T_e4fc9_level0_col5\" class=\"col_heading level0 col5\" >humidity</th>\n",
       "      <th id=\"T_e4fc9_level0_col6\" class=\"col_heading level0 col6\" >cloud</th>\n",
       "      <th id=\"T_e4fc9_level0_col7\" class=\"col_heading level0 col7\" >sunshine</th>\n",
       "      <th id=\"T_e4fc9_level0_col8\" class=\"col_heading level0 col8\" >winddirection</th>\n",
       "      <th id=\"T_e4fc9_level0_col9\" class=\"col_heading level0 col9\" >windspeed</th>\n",
       "      <th id=\"T_e4fc9_level0_col10\" class=\"col_heading level0 col10\" >rainfall</th>\n",
       "    </tr>\n",
       "  </thead>\n",
       "  <tbody>\n",
       "    <tr>\n",
       "      <th id=\"T_e4fc9_level0_row0\" class=\"row_heading level0 row0\" >pressure</th>\n",
       "      <td id=\"T_e4fc9_row0_col0\" class=\"data row0 col0\" >1.000000</td>\n",
       "      <td id=\"T_e4fc9_row0_col1\" class=\"data row0 col1\" >-0.800499</td>\n",
       "      <td id=\"T_e4fc9_row0_col2\" class=\"data row0 col2\" >-0.816531</td>\n",
       "      <td id=\"T_e4fc9_row0_col3\" class=\"data row0 col3\" >-0.814453</td>\n",
       "      <td id=\"T_e4fc9_row0_col4\" class=\"data row0 col4\" >-0.817008</td>\n",
       "      <td id=\"T_e4fc9_row0_col5\" class=\"data row0 col5\" >-0.119949</td>\n",
       "      <td id=\"T_e4fc9_row0_col6\" class=\"data row0 col6\" >0.098600</td>\n",
       "      <td id=\"T_e4fc9_row0_col7\" class=\"data row0 col7\" >-0.257163</td>\n",
       "      <td id=\"T_e4fc9_row0_col8\" class=\"data row0 col8\" >-0.643293</td>\n",
       "      <td id=\"T_e4fc9_row0_col9\" class=\"data row0 col9\" >0.266012</td>\n",
       "      <td id=\"T_e4fc9_row0_col10\" class=\"data row0 col10\" >-0.049886</td>\n",
       "    </tr>\n",
       "    <tr>\n",
       "      <th id=\"T_e4fc9_level0_row1\" class=\"row_heading level0 row1\" >maxtemp</th>\n",
       "      <td id=\"T_e4fc9_row1_col0\" class=\"data row1 col0\" >-0.800499</td>\n",
       "      <td id=\"T_e4fc9_row1_col1\" class=\"data row1 col1\" >1.000000</td>\n",
       "      <td id=\"T_e4fc9_row1_col2\" class=\"data row1 col2\" >0.982932</td>\n",
       "      <td id=\"T_e4fc9_row1_col3\" class=\"data row1 col3\" >0.965529</td>\n",
       "      <td id=\"T_e4fc9_row1_col4\" class=\"data row1 col4\" >0.906703</td>\n",
       "      <td id=\"T_e4fc9_row1_col5\" class=\"data row1 col5\" >-0.072615</td>\n",
       "      <td id=\"T_e4fc9_row1_col6\" class=\"data row1 col6\" >-0.289047</td>\n",
       "      <td id=\"T_e4fc9_row1_col7\" class=\"data row1 col7\" >0.452387</td>\n",
       "      <td id=\"T_e4fc9_row1_col8\" class=\"data row1 col8\" >0.662235</td>\n",
       "      <td id=\"T_e4fc9_row1_col9\" class=\"data row1 col9\" >-0.354168</td>\n",
       "      <td id=\"T_e4fc9_row1_col10\" class=\"data row1 col10\" >-0.079304</td>\n",
       "    </tr>\n",
       "    <tr>\n",
       "      <th id=\"T_e4fc9_level0_row2\" class=\"row_heading level0 row2\" >temparature</th>\n",
       "      <td id=\"T_e4fc9_row2_col0\" class=\"data row2 col0\" >-0.816531</td>\n",
       "      <td id=\"T_e4fc9_row2_col1\" class=\"data row2 col1\" >0.982932</td>\n",
       "      <td id=\"T_e4fc9_row2_col2\" class=\"data row2 col2\" >1.000000</td>\n",
       "      <td id=\"T_e4fc9_row2_col3\" class=\"data row2 col3\" >0.987150</td>\n",
       "      <td id=\"T_e4fc9_row2_col4\" class=\"data row2 col4\" >0.933617</td>\n",
       "      <td id=\"T_e4fc9_row2_col5\" class=\"data row2 col5\" >-0.025016</td>\n",
       "      <td id=\"T_e4fc9_row2_col6\" class=\"data row2 col6\" >-0.249355</td>\n",
       "      <td id=\"T_e4fc9_row2_col7\" class=\"data row2 col7\" >0.414019</td>\n",
       "      <td id=\"T_e4fc9_row2_col8\" class=\"data row2 col8\" >0.668963</td>\n",
       "      <td id=\"T_e4fc9_row2_col9\" class=\"data row2 col9\" >-0.342262</td>\n",
       "      <td id=\"T_e4fc9_row2_col10\" class=\"data row2 col10\" >-0.049660</td>\n",
       "    </tr>\n",
       "    <tr>\n",
       "      <th id=\"T_e4fc9_level0_row3\" class=\"row_heading level0 row3\" >mintemp</th>\n",
       "      <td id=\"T_e4fc9_row3_col0\" class=\"data row3 col0\" >-0.814453</td>\n",
       "      <td id=\"T_e4fc9_row3_col1\" class=\"data row3 col1\" >0.965529</td>\n",
       "      <td id=\"T_e4fc9_row3_col2\" class=\"data row3 col2\" >0.987150</td>\n",
       "      <td id=\"T_e4fc9_row3_col3\" class=\"data row3 col3\" >1.000000</td>\n",
       "      <td id=\"T_e4fc9_row3_col4\" class=\"data row3 col4\" >0.941342</td>\n",
       "      <td id=\"T_e4fc9_row3_col5\" class=\"data row3 col5\" >0.009891</td>\n",
       "      <td id=\"T_e4fc9_row3_col6\" class=\"data row3 col6\" >-0.219399</td>\n",
       "      <td id=\"T_e4fc9_row3_col7\" class=\"data row3 col7\" >0.379497</td>\n",
       "      <td id=\"T_e4fc9_row3_col8\" class=\"data row3 col8\" >0.663828</td>\n",
       "      <td id=\"T_e4fc9_row3_col9\" class=\"data row3 col9\" >-0.328871</td>\n",
       "      <td id=\"T_e4fc9_row3_col10\" class=\"data row3 col10\" >-0.026841</td>\n",
       "    </tr>\n",
       "    <tr>\n",
       "      <th id=\"T_e4fc9_level0_row4\" class=\"row_heading level0 row4\" >dewpoint</th>\n",
       "      <td id=\"T_e4fc9_row4_col0\" class=\"data row4 col0\" >-0.817008</td>\n",
       "      <td id=\"T_e4fc9_row4_col1\" class=\"data row4 col1\" >0.906703</td>\n",
       "      <td id=\"T_e4fc9_row4_col2\" class=\"data row4 col2\" >0.933617</td>\n",
       "      <td id=\"T_e4fc9_row4_col3\" class=\"data row4 col3\" >0.941342</td>\n",
       "      <td id=\"T_e4fc9_row4_col4\" class=\"data row4 col4\" >1.000000</td>\n",
       "      <td id=\"T_e4fc9_row4_col5\" class=\"data row4 col5\" >0.153390</td>\n",
       "      <td id=\"T_e4fc9_row4_col6\" class=\"data row4 col6\" >-0.088446</td>\n",
       "      <td id=\"T_e4fc9_row4_col7\" class=\"data row4 col7\" >0.249676</td>\n",
       "      <td id=\"T_e4fc9_row4_col8\" class=\"data row4 col8\" >0.643073</td>\n",
       "      <td id=\"T_e4fc9_row4_col9\" class=\"data row4 col9\" >-0.312179</td>\n",
       "      <td id=\"T_e4fc9_row4_col10\" class=\"data row4 col10\" >0.081965</td>\n",
       "    </tr>\n",
       "    <tr>\n",
       "      <th id=\"T_e4fc9_level0_row5\" class=\"row_heading level0 row5\" >humidity</th>\n",
       "      <td id=\"T_e4fc9_row5_col0\" class=\"data row5 col0\" >-0.119949</td>\n",
       "      <td id=\"T_e4fc9_row5_col1\" class=\"data row5 col1\" >-0.072615</td>\n",
       "      <td id=\"T_e4fc9_row5_col2\" class=\"data row5 col2\" >-0.025016</td>\n",
       "      <td id=\"T_e4fc9_row5_col3\" class=\"data row5 col3\" >0.009891</td>\n",
       "      <td id=\"T_e4fc9_row5_col4\" class=\"data row5 col4\" >0.153390</td>\n",
       "      <td id=\"T_e4fc9_row5_col5\" class=\"data row5 col5\" >1.000000</td>\n",
       "      <td id=\"T_e4fc9_row5_col6\" class=\"data row5 col6\" >0.584854</td>\n",
       "      <td id=\"T_e4fc9_row5_col7\" class=\"data row5 col7\" >-0.541592</td>\n",
       "      <td id=\"T_e4fc9_row5_col8\" class=\"data row5 col8\" >-0.012430</td>\n",
       "      <td id=\"T_e4fc9_row5_col9\" class=\"data row5 col9\" >0.062285</td>\n",
       "      <td id=\"T_e4fc9_row5_col10\" class=\"data row5 col10\" >0.454213</td>\n",
       "    </tr>\n",
       "    <tr>\n",
       "      <th id=\"T_e4fc9_level0_row6\" class=\"row_heading level0 row6\" >cloud</th>\n",
       "      <td id=\"T_e4fc9_row6_col0\" class=\"data row6 col0\" >0.098600</td>\n",
       "      <td id=\"T_e4fc9_row6_col1\" class=\"data row6 col1\" >-0.289047</td>\n",
       "      <td id=\"T_e4fc9_row6_col2\" class=\"data row6 col2\" >-0.249355</td>\n",
       "      <td id=\"T_e4fc9_row6_col3\" class=\"data row6 col3\" >-0.219399</td>\n",
       "      <td id=\"T_e4fc9_row6_col4\" class=\"data row6 col4\" >-0.088446</td>\n",
       "      <td id=\"T_e4fc9_row6_col5\" class=\"data row6 col5\" >0.584854</td>\n",
       "      <td id=\"T_e4fc9_row6_col6\" class=\"data row6 col6\" >1.000000</td>\n",
       "      <td id=\"T_e4fc9_row6_col7\" class=\"data row6 col7\" >-0.805128</td>\n",
       "      <td id=\"T_e4fc9_row6_col8\" class=\"data row6 col8\" >-0.127087</td>\n",
       "      <td id=\"T_e4fc9_row6_col9\" class=\"data row6 col9\" >0.184698</td>\n",
       "      <td id=\"T_e4fc9_row6_col10\" class=\"data row6 col10\" >0.641191</td>\n",
       "    </tr>\n",
       "    <tr>\n",
       "      <th id=\"T_e4fc9_level0_row7\" class=\"row_heading level0 row7\" >sunshine</th>\n",
       "      <td id=\"T_e4fc9_row7_col0\" class=\"data row7 col0\" >-0.257163</td>\n",
       "      <td id=\"T_e4fc9_row7_col1\" class=\"data row7 col1\" >0.452387</td>\n",
       "      <td id=\"T_e4fc9_row7_col2\" class=\"data row7 col2\" >0.414019</td>\n",
       "      <td id=\"T_e4fc9_row7_col3\" class=\"data row7 col3\" >0.379497</td>\n",
       "      <td id=\"T_e4fc9_row7_col4\" class=\"data row7 col4\" >0.249676</td>\n",
       "      <td id=\"T_e4fc9_row7_col5\" class=\"data row7 col5\" >-0.541592</td>\n",
       "      <td id=\"T_e4fc9_row7_col6\" class=\"data row7 col6\" >-0.805128</td>\n",
       "      <td id=\"T_e4fc9_row7_col7\" class=\"data row7 col7\" >1.000000</td>\n",
       "      <td id=\"T_e4fc9_row7_col8\" class=\"data row7 col8\" >0.272235</td>\n",
       "      <td id=\"T_e4fc9_row7_col9\" class=\"data row7 col9\" >-0.241752</td>\n",
       "      <td id=\"T_e4fc9_row7_col10\" class=\"data row7 col10\" >-0.555287</td>\n",
       "    </tr>\n",
       "    <tr>\n",
       "      <th id=\"T_e4fc9_level0_row8\" class=\"row_heading level0 row8\" >winddirection</th>\n",
       "      <td id=\"T_e4fc9_row8_col0\" class=\"data row8 col0\" >-0.643293</td>\n",
       "      <td id=\"T_e4fc9_row8_col1\" class=\"data row8 col1\" >0.662235</td>\n",
       "      <td id=\"T_e4fc9_row8_col2\" class=\"data row8 col2\" >0.668963</td>\n",
       "      <td id=\"T_e4fc9_row8_col3\" class=\"data row8 col3\" >0.663828</td>\n",
       "      <td id=\"T_e4fc9_row8_col4\" class=\"data row8 col4\" >0.643073</td>\n",
       "      <td id=\"T_e4fc9_row8_col5\" class=\"data row8 col5\" >-0.012430</td>\n",
       "      <td id=\"T_e4fc9_row8_col6\" class=\"data row8 col6\" >-0.127087</td>\n",
       "      <td id=\"T_e4fc9_row8_col7\" class=\"data row8 col7\" >0.272235</td>\n",
       "      <td id=\"T_e4fc9_row8_col8\" class=\"data row8 col8\" >1.000000</td>\n",
       "      <td id=\"T_e4fc9_row8_col9\" class=\"data row8 col9\" >-0.192417</td>\n",
       "      <td id=\"T_e4fc9_row8_col10\" class=\"data row8 col10\" >-0.006939</td>\n",
       "    </tr>\n",
       "    <tr>\n",
       "      <th id=\"T_e4fc9_level0_row9\" class=\"row_heading level0 row9\" >windspeed</th>\n",
       "      <td id=\"T_e4fc9_row9_col0\" class=\"data row9 col0\" >0.266012</td>\n",
       "      <td id=\"T_e4fc9_row9_col1\" class=\"data row9 col1\" >-0.354168</td>\n",
       "      <td id=\"T_e4fc9_row9_col2\" class=\"data row9 col2\" >-0.342262</td>\n",
       "      <td id=\"T_e4fc9_row9_col3\" class=\"data row9 col3\" >-0.328871</td>\n",
       "      <td id=\"T_e4fc9_row9_col4\" class=\"data row9 col4\" >-0.312179</td>\n",
       "      <td id=\"T_e4fc9_row9_col5\" class=\"data row9 col5\" >0.062285</td>\n",
       "      <td id=\"T_e4fc9_row9_col6\" class=\"data row9 col6\" >0.184698</td>\n",
       "      <td id=\"T_e4fc9_row9_col7\" class=\"data row9 col7\" >-0.241752</td>\n",
       "      <td id=\"T_e4fc9_row9_col8\" class=\"data row9 col8\" >-0.192417</td>\n",
       "      <td id=\"T_e4fc9_row9_col9\" class=\"data row9 col9\" >1.000000</td>\n",
       "      <td id=\"T_e4fc9_row9_col10\" class=\"data row9 col10\" >0.111625</td>\n",
       "    </tr>\n",
       "    <tr>\n",
       "      <th id=\"T_e4fc9_level0_row10\" class=\"row_heading level0 row10\" >rainfall</th>\n",
       "      <td id=\"T_e4fc9_row10_col0\" class=\"data row10 col0\" >-0.049886</td>\n",
       "      <td id=\"T_e4fc9_row10_col1\" class=\"data row10 col1\" >-0.079304</td>\n",
       "      <td id=\"T_e4fc9_row10_col2\" class=\"data row10 col2\" >-0.049660</td>\n",
       "      <td id=\"T_e4fc9_row10_col3\" class=\"data row10 col3\" >-0.026841</td>\n",
       "      <td id=\"T_e4fc9_row10_col4\" class=\"data row10 col4\" >0.081965</td>\n",
       "      <td id=\"T_e4fc9_row10_col5\" class=\"data row10 col5\" >0.454213</td>\n",
       "      <td id=\"T_e4fc9_row10_col6\" class=\"data row10 col6\" >0.641191</td>\n",
       "      <td id=\"T_e4fc9_row10_col7\" class=\"data row10 col7\" >-0.555287</td>\n",
       "      <td id=\"T_e4fc9_row10_col8\" class=\"data row10 col8\" >-0.006939</td>\n",
       "      <td id=\"T_e4fc9_row10_col9\" class=\"data row10 col9\" >0.111625</td>\n",
       "      <td id=\"T_e4fc9_row10_col10\" class=\"data row10 col10\" >1.000000</td>\n",
       "    </tr>\n",
       "  </tbody>\n",
       "</table>\n"
      ],
      "text/plain": [
       "<pandas.io.formats.style.Styler at 0x784b7111bd60>"
      ]
     },
     "execution_count": 9,
     "metadata": {},
     "output_type": "execute_result"
    }
   ],
   "source": [
    "rainfall_end.corr().style.background_gradient(cmap=\"Greens\")"
   ]
  },
  {
   "cell_type": "code",
   "execution_count": 10,
   "id": "cafef083",
   "metadata": {
    "execution": {
     "iopub.execute_input": "2025-04-01T00:14:27.853115Z",
     "iopub.status.busy": "2025-04-01T00:14:27.852615Z",
     "iopub.status.idle": "2025-04-01T00:14:27.858032Z",
     "shell.execute_reply": "2025-04-01T00:14:27.856961Z"
    },
    "papermill": {
     "duration": 0.025373,
     "end_time": "2025-04-01T00:14:27.859843",
     "exception": false,
     "start_time": "2025-04-01T00:14:27.834470",
     "status": "completed"
    },
    "tags": []
   },
   "outputs": [],
   "source": [
    "# We separate the target variable from the features\n",
    "\n",
    "x_rain = rainfall_end.drop(columns=\"rainfall\")\n",
    "y_rainfall = rainfall_end[\"rainfall\"]"
   ]
  },
  {
   "cell_type": "code",
   "execution_count": 11,
   "id": "7ad634d5",
   "metadata": {
    "execution": {
     "iopub.execute_input": "2025-04-01T00:14:27.895588Z",
     "iopub.status.busy": "2025-04-01T00:14:27.895191Z",
     "iopub.status.idle": "2025-04-01T00:14:27.915597Z",
     "shell.execute_reply": "2025-04-01T00:14:27.914375Z"
    },
    "papermill": {
     "duration": 0.040546,
     "end_time": "2025-04-01T00:14:27.917591",
     "exception": false,
     "start_time": "2025-04-01T00:14:27.877045",
     "status": "completed"
    },
    "tags": []
   },
   "outputs": [],
   "source": [
    "# We transform the data\n",
    "\n",
    "rs = RobustScaler()\n",
    "\n",
    "num_va = rs.fit_transform(x_rain)\n",
    "\n",
    "x_rainfall = pd.DataFrame(\n",
    "    num_va, columns=rs.get_feature_names_out(x_rain.columns)\n",
    ")"
   ]
  },
  {
   "cell_type": "code",
   "execution_count": 12,
   "id": "83ccf9f3",
   "metadata": {
    "execution": {
     "iopub.execute_input": "2025-04-01T00:14:27.953306Z",
     "iopub.status.busy": "2025-04-01T00:14:27.952909Z",
     "iopub.status.idle": "2025-04-01T00:14:27.991560Z",
     "shell.execute_reply": "2025-04-01T00:14:27.990109Z"
    },
    "papermill": {
     "duration": 0.059122,
     "end_time": "2025-04-01T00:14:27.994040",
     "exception": false,
     "start_time": "2025-04-01T00:14:27.934918",
     "status": "completed"
    },
    "tags": []
   },
   "outputs": [
    {
     "data": {
      "text/html": [
       "<div>\n",
       "<style scoped>\n",
       "    .dataframe tbody tr th:only-of-type {\n",
       "        vertical-align: middle;\n",
       "    }\n",
       "\n",
       "    .dataframe tbody tr th {\n",
       "        vertical-align: top;\n",
       "    }\n",
       "\n",
       "    .dataframe thead th {\n",
       "        text-align: right;\n",
       "    }\n",
       "</style>\n",
       "<table border=\"1\" class=\"dataframe\">\n",
       "  <thead>\n",
       "    <tr style=\"text-align: right;\">\n",
       "      <th></th>\n",
       "      <th>pressure</th>\n",
       "      <th>maxtemp</th>\n",
       "      <th>temparature</th>\n",
       "      <th>mintemp</th>\n",
       "      <th>dewpoint</th>\n",
       "      <th>humidity</th>\n",
       "      <th>cloud</th>\n",
       "      <th>sunshine</th>\n",
       "      <th>winddirection</th>\n",
       "      <th>windspeed</th>\n",
       "    </tr>\n",
       "  </thead>\n",
       "  <tbody>\n",
       "    <tr>\n",
       "      <th>count</th>\n",
       "      <td>2190.000000</td>\n",
       "      <td>2190.000000</td>\n",
       "      <td>2190.000000</td>\n",
       "      <td>2.190000e+03</td>\n",
       "      <td>2.190000e+03</td>\n",
       "      <td>2190.000000</td>\n",
       "      <td>2190.000000</td>\n",
       "      <td>2190.000000</td>\n",
       "      <td>2190.000000</td>\n",
       "      <td>2190.000000</td>\n",
       "    </tr>\n",
       "    <tr>\n",
       "      <th>mean</th>\n",
       "      <td>0.065629</td>\n",
       "      <td>-0.144869</td>\n",
       "      <td>-0.169993</td>\n",
       "      <td>-1.930930e-01</td>\n",
       "      <td>-2.067602e-01</td>\n",
       "      <td>0.003321</td>\n",
       "      <td>-0.383057</td>\n",
       "      <td>0.210067</td>\n",
       "      <td>0.217895</td>\n",
       "      <td>0.094715</td>\n",
       "    </tr>\n",
       "    <tr>\n",
       "      <th>std</th>\n",
       "      <td>0.616389</td>\n",
       "      <td>0.571144</td>\n",
       "      <td>0.573891</td>\n",
       "      <td>5.815081e-01</td>\n",
       "      <td>6.449276e-01</td>\n",
       "      <td>0.709150</td>\n",
       "      <td>0.948763</td>\n",
       "      <td>0.566614</td>\n",
       "      <td>0.500015</td>\n",
       "      <td>0.718596</td>\n",
       "    </tr>\n",
       "    <tr>\n",
       "      <th>min</th>\n",
       "      <td>-1.525886</td>\n",
       "      <td>-1.757576</td>\n",
       "      <td>-1.989011</td>\n",
       "      <td>-2.281609e+00</td>\n",
       "      <td>-2.737805e+00</td>\n",
       "      <td>-3.909091</td>\n",
       "      <td>-4.263158</td>\n",
       "      <td>-0.375000</td>\n",
       "      <td>-0.375000</td>\n",
       "      <td>-1.168784</td>\n",
       "    </tr>\n",
       "    <tr>\n",
       "      <th>25%</th>\n",
       "      <td>-0.479564</td>\n",
       "      <td>-0.656566</td>\n",
       "      <td>-0.681319</td>\n",
       "      <td>-7.068966e-01</td>\n",
       "      <td>-6.524390e-01</td>\n",
       "      <td>-0.454545</td>\n",
       "      <td>-0.736842</td>\n",
       "      <td>-0.312500</td>\n",
       "      <td>-0.187500</td>\n",
       "      <td>-0.462795</td>\n",
       "    </tr>\n",
       "    <tr>\n",
       "      <th>50%</th>\n",
       "      <td>0.000000</td>\n",
       "      <td>0.000000</td>\n",
       "      <td>0.000000</td>\n",
       "      <td>-2.046974e-16</td>\n",
       "      <td>2.168404e-16</td>\n",
       "      <td>0.000000</td>\n",
       "      <td>0.000000</td>\n",
       "      <td>0.000000</td>\n",
       "      <td>0.000000</td>\n",
       "      <td>0.000000</td>\n",
       "    </tr>\n",
       "    <tr>\n",
       "      <th>75%</th>\n",
       "      <td>0.520436</td>\n",
       "      <td>0.343434</td>\n",
       "      <td>0.318681</td>\n",
       "      <td>2.931034e-01</td>\n",
       "      <td>3.475610e-01</td>\n",
       "      <td>0.545455</td>\n",
       "      <td>0.263158</td>\n",
       "      <td>0.687500</td>\n",
       "      <td>0.812500</td>\n",
       "      <td>0.537205</td>\n",
       "    </tr>\n",
       "    <tr>\n",
       "      <th>max</th>\n",
       "      <td>2.354223</td>\n",
       "      <td>0.828283</td>\n",
       "      <td>0.659341</td>\n",
       "      <td>6.839080e-01</td>\n",
       "      <td>5.548780e-01</td>\n",
       "      <td>1.454545</td>\n",
       "      <td>0.894737</td>\n",
       "      <td>1.515625</td>\n",
       "      <td>1.437500</td>\n",
       "      <td>2.831216</td>\n",
       "    </tr>\n",
       "  </tbody>\n",
       "</table>\n",
       "</div>"
      ],
      "text/plain": [
       "          pressure      maxtemp  temparature       mintemp      dewpoint  \\\n",
       "count  2190.000000  2190.000000  2190.000000  2.190000e+03  2.190000e+03   \n",
       "mean      0.065629    -0.144869    -0.169993 -1.930930e-01 -2.067602e-01   \n",
       "std       0.616389     0.571144     0.573891  5.815081e-01  6.449276e-01   \n",
       "min      -1.525886    -1.757576    -1.989011 -2.281609e+00 -2.737805e+00   \n",
       "25%      -0.479564    -0.656566    -0.681319 -7.068966e-01 -6.524390e-01   \n",
       "50%       0.000000     0.000000     0.000000 -2.046974e-16  2.168404e-16   \n",
       "75%       0.520436     0.343434     0.318681  2.931034e-01  3.475610e-01   \n",
       "max       2.354223     0.828283     0.659341  6.839080e-01  5.548780e-01   \n",
       "\n",
       "          humidity        cloud     sunshine  winddirection    windspeed  \n",
       "count  2190.000000  2190.000000  2190.000000    2190.000000  2190.000000  \n",
       "mean      0.003321    -0.383057     0.210067       0.217895     0.094715  \n",
       "std       0.709150     0.948763     0.566614       0.500015     0.718596  \n",
       "min      -3.909091    -4.263158    -0.375000      -0.375000    -1.168784  \n",
       "25%      -0.454545    -0.736842    -0.312500      -0.187500    -0.462795  \n",
       "50%       0.000000     0.000000     0.000000       0.000000     0.000000  \n",
       "75%       0.545455     0.263158     0.687500       0.812500     0.537205  \n",
       "max       1.454545     0.894737     1.515625       1.437500     2.831216  "
      ]
     },
     "execution_count": 12,
     "metadata": {},
     "output_type": "execute_result"
    }
   ],
   "source": [
    "x_rainfall.describe()"
   ]
  },
  {
   "cell_type": "code",
   "execution_count": 13,
   "id": "a462491b",
   "metadata": {
    "execution": {
     "iopub.execute_input": "2025-04-01T00:14:28.038080Z",
     "iopub.status.busy": "2025-04-01T00:14:28.037697Z",
     "iopub.status.idle": "2025-04-01T00:14:28.157593Z",
     "shell.execute_reply": "2025-04-01T00:14:28.156485Z"
    },
    "papermill": {
     "duration": 0.143326,
     "end_time": "2025-04-01T00:14:28.159683",
     "exception": false,
     "start_time": "2025-04-01T00:14:28.016357",
     "status": "completed"
    },
    "tags": []
   },
   "outputs": [
    {
     "data": {
      "text/plain": [
       "cloud            0.211965\n",
       "sunshine         0.159010\n",
       "humidity         0.132586\n",
       "winddirection    0.022701\n",
       "dewpoint         0.019614\n",
       "temparature      0.018492\n",
       "maxtemp          0.016834\n",
       "mintemp          0.012420\n",
       "pressure         0.002473\n",
       "windspeed        0.001615\n",
       "Name: MI Scores, dtype: float64"
      ]
     },
     "execution_count": 13,
     "metadata": {},
     "output_type": "execute_result"
    }
   ],
   "source": [
    "mi_scores = mutual_info_classif(x_rainfall, y_rainfall)\n",
    "mi_scores = pd.Series(mi_scores, name=\"MI Scores\", index=x_rainfall.columns)\n",
    "mi_scores = mi_scores.sort_values(ascending=False)\n",
    "mi_scores"
   ]
  },
  {
   "cell_type": "code",
   "execution_count": 14,
   "id": "84c7357f",
   "metadata": {
    "execution": {
     "iopub.execute_input": "2025-04-01T00:14:28.197819Z",
     "iopub.status.busy": "2025-04-01T00:14:28.197484Z",
     "iopub.status.idle": "2025-04-01T00:14:28.202518Z",
     "shell.execute_reply": "2025-04-01T00:14:28.201498Z"
    },
    "papermill": {
     "duration": 0.026008,
     "end_time": "2025-04-01T00:14:28.204508",
     "exception": false,
     "start_time": "2025-04-01T00:14:28.178500",
     "status": "completed"
    },
    "tags": []
   },
   "outputs": [],
   "source": [
    "x_rainfall = x_rainfall.drop(columns=[\"maxtemp\", \"mintemp\", \"winddirection\"])"
   ]
  },
  {
   "cell_type": "code",
   "execution_count": 15,
   "id": "cd89b522",
   "metadata": {
    "execution": {
     "iopub.execute_input": "2025-04-01T00:14:28.241766Z",
     "iopub.status.busy": "2025-04-01T00:14:28.241357Z",
     "iopub.status.idle": "2025-04-01T00:14:28.252125Z",
     "shell.execute_reply": "2025-04-01T00:14:28.250977Z"
    },
    "papermill": {
     "duration": 0.031463,
     "end_time": "2025-04-01T00:14:28.254172",
     "exception": false,
     "start_time": "2025-04-01T00:14:28.222709",
     "status": "completed"
    },
    "tags": []
   },
   "outputs": [
    {
     "name": "stdout",
     "output_type": "stream",
     "text": [
      "<class 'pandas.core.frame.DataFrame'>\n",
      "RangeIndex: 2190 entries, 0 to 2189\n",
      "Data columns (total 7 columns):\n",
      " #   Column       Non-Null Count  Dtype  \n",
      "---  ------       --------------  -----  \n",
      " 0   pressure     2190 non-null   float64\n",
      " 1   temparature  2190 non-null   float64\n",
      " 2   dewpoint     2190 non-null   float64\n",
      " 3   humidity     2190 non-null   float64\n",
      " 4   cloud        2190 non-null   float64\n",
      " 5   sunshine     2190 non-null   float64\n",
      " 6   windspeed    2190 non-null   float64\n",
      "dtypes: float64(7)\n",
      "memory usage: 119.9 KB\n"
     ]
    }
   ],
   "source": [
    "x_rainfall.info()"
   ]
  },
  {
   "cell_type": "markdown",
   "id": "ec7f280e",
   "metadata": {
    "papermill": {
     "duration": 0.017105,
     "end_time": "2025-04-01T00:14:28.288977",
     "exception": false,
     "start_time": "2025-04-01T00:14:28.271872",
     "status": "completed"
    },
    "tags": []
   },
   "source": [
    "# Model Selection"
   ]
  },
  {
   "cell_type": "code",
   "execution_count": 16,
   "id": "ec0b7636",
   "metadata": {
    "execution": {
     "iopub.execute_input": "2025-04-01T00:14:28.325134Z",
     "iopub.status.busy": "2025-04-01T00:14:28.324740Z",
     "iopub.status.idle": "2025-04-01T00:14:28.332365Z",
     "shell.execute_reply": "2025-04-01T00:14:28.331136Z"
    },
    "papermill": {
     "duration": 0.028071,
     "end_time": "2025-04-01T00:14:28.334395",
     "exception": false,
     "start_time": "2025-04-01T00:14:28.306324",
     "status": "completed"
    },
    "tags": []
   },
   "outputs": [],
   "source": [
    "# We separate the data into training and test sets\n",
    "\n",
    "x_train, x_val, y_train, y_val = (\n",
    "    train_test_split(\n",
    "        x_rainfall, y_rainfall, test_size=0.2, random_state=42\n",
    "    )\n",
    ")"
   ]
  },
  {
   "cell_type": "code",
   "execution_count": 17,
   "id": "58b810b6",
   "metadata": {
    "execution": {
     "iopub.execute_input": "2025-04-01T00:14:28.371089Z",
     "iopub.status.busy": "2025-04-01T00:14:28.370727Z",
     "iopub.status.idle": "2025-04-01T00:14:28.377522Z",
     "shell.execute_reply": "2025-04-01T00:14:28.376358Z"
    },
    "papermill": {
     "duration": 0.027293,
     "end_time": "2025-04-01T00:14:28.379333",
     "exception": false,
     "start_time": "2025-04-01T00:14:28.352040",
     "status": "completed"
    },
    "tags": []
   },
   "outputs": [
    {
     "name": "stdout",
     "output_type": "stream",
     "text": [
      "[[   0    1]\n",
      " [ 421 1331]]\n"
     ]
    }
   ],
   "source": [
    "# We review the balance of the target variable\n",
    "\n",
    "values_counts = np.asarray(np.unique(y_train, return_counts=True))\n",
    "\n",
    "print(values_counts)"
   ]
  },
  {
   "cell_type": "code",
   "execution_count": 18,
   "id": "157d3a90",
   "metadata": {
    "execution": {
     "iopub.execute_input": "2025-04-01T00:14:28.467259Z",
     "iopub.status.busy": "2025-04-01T00:14:28.466856Z",
     "iopub.status.idle": "2025-04-01T00:14:28.473304Z",
     "shell.execute_reply": "2025-04-01T00:14:28.472172Z"
    },
    "papermill": {
     "duration": 0.026746,
     "end_time": "2025-04-01T00:14:28.475000",
     "exception": false,
     "start_time": "2025-04-01T00:14:28.448254",
     "status": "completed"
    },
    "tags": []
   },
   "outputs": [],
   "source": [
    "def evaluator(model, xtrain, ytrain, xval, yval):\n",
    "\n",
    "    '''\n",
    "    We calculate the precision score\n",
    "    We obtain prediction from the model\n",
    "    We calculate the f1 score\n",
    "    Train result and accuracy score test\n",
    "    Print train and test macro f1 score\n",
    "    '''\n",
    "\n",
    "    train_ascore = model.score(xtrain, ytrain)\n",
    "    val_ascore = model.score(xval, yval)\n",
    "\n",
    "    y_train_pred = model.predict(xtrain)\n",
    "    y_val_pred = model.predict(xval)\n",
    "\n",
    "    train_fscore = f1_score(ytrain, y_train_pred, average=\"macro\")\n",
    "    val_fscore = f1_score(yval, y_val_pred, average=\"macro\")\n",
    "\n",
    "    print(f\"Train - Accuracy score: {train_ascore}\")\n",
    "    print(f\"Test - Accuracy score: {val_ascore}\\n\")\n",
    "    print(f\"Train - F1-Score: {train_fscore}\")\n",
    "    print(f\"Test - F1-Score: {val_fscore}\")"
   ]
  },
  {
   "cell_type": "code",
   "execution_count": 19,
   "id": "d7a3a39f",
   "metadata": {
    "execution": {
     "iopub.execute_input": "2025-04-01T00:14:28.512190Z",
     "iopub.status.busy": "2025-04-01T00:14:28.511777Z",
     "iopub.status.idle": "2025-04-01T00:14:28.518640Z",
     "shell.execute_reply": "2025-04-01T00:14:28.517256Z"
    },
    "papermill": {
     "duration": 0.027568,
     "end_time": "2025-04-01T00:14:28.520455",
     "exception": false,
     "start_time": "2025-04-01T00:14:28.492887",
     "status": "completed"
    },
    "tags": []
   },
   "outputs": [],
   "source": [
    "def matrix_evaluator(model, xval, yval, list_classes, color_map):\n",
    "    '''\n",
    "    We create the confusion matrix\n",
    "    We plot the confusion matrix\n",
    "    Report results\n",
    "    '''\n",
    "    y_pred = model.predict(xval)\n",
    "    cm_values = confusion_matrix(yval, y_pred)\n",
    "    df_cm = pd.DataFrame(\n",
    "        cm_values,\n",
    "        columns=list_classes,\n",
    "        index=list_classes\n",
    "        )\n",
    "    df_cm.index.name = \"Actual\"\n",
    "    df_cm.columns.name = \"Predicted\"\n",
    "\n",
    "    plt.figure(figsize=(6, 4))\n",
    "    sns.heatmap(df_cm, annot=True, fmt=\"d\", cmap=color_map)\n",
    "    plt.title(\"Confusion Matrix\")\n",
    "    plt.xlabel(\"Predicted Label\")\n",
    "    plt.ylabel(\"True Label\")\n",
    "    plt.show()\n",
    "\n",
    "    print(\"\\n\")\n",
    "    print(classification_report(\n",
    "        yval, y_pred, target_names=list_classes\n",
    "    ))"
   ]
  },
  {
   "cell_type": "markdown",
   "id": "d0f8b198",
   "metadata": {
    "papermill": {
     "duration": 0.017296,
     "end_time": "2025-04-01T00:14:28.555454",
     "exception": false,
     "start_time": "2025-04-01T00:14:28.538158",
     "status": "completed"
    },
    "tags": []
   },
   "source": [
    "## LogisticRegression"
   ]
  },
  {
   "cell_type": "code",
   "execution_count": 20,
   "id": "3c6f2cc7",
   "metadata": {
    "execution": {
     "iopub.execute_input": "2025-04-01T00:14:28.592706Z",
     "iopub.status.busy": "2025-04-01T00:14:28.592299Z",
     "iopub.status.idle": "2025-04-01T00:14:28.630164Z",
     "shell.execute_reply": "2025-04-01T00:14:28.628969Z"
    },
    "papermill": {
     "duration": 0.058447,
     "end_time": "2025-04-01T00:14:28.631989",
     "exception": false,
     "start_time": "2025-04-01T00:14:28.573542",
     "status": "completed"
    },
    "tags": []
   },
   "outputs": [
    {
     "data": {
      "text/html": [
       "<style>#sk-container-id-1 {color: black;background-color: white;}#sk-container-id-1 pre{padding: 0;}#sk-container-id-1 div.sk-toggleable {background-color: white;}#sk-container-id-1 label.sk-toggleable__label {cursor: pointer;display: block;width: 100%;margin-bottom: 0;padding: 0.3em;box-sizing: border-box;text-align: center;}#sk-container-id-1 label.sk-toggleable__label-arrow:before {content: \"▸\";float: left;margin-right: 0.25em;color: #696969;}#sk-container-id-1 label.sk-toggleable__label-arrow:hover:before {color: black;}#sk-container-id-1 div.sk-estimator:hover label.sk-toggleable__label-arrow:before {color: black;}#sk-container-id-1 div.sk-toggleable__content {max-height: 0;max-width: 0;overflow: hidden;text-align: left;background-color: #f0f8ff;}#sk-container-id-1 div.sk-toggleable__content pre {margin: 0.2em;color: black;border-radius: 0.25em;background-color: #f0f8ff;}#sk-container-id-1 input.sk-toggleable__control:checked~div.sk-toggleable__content {max-height: 200px;max-width: 100%;overflow: auto;}#sk-container-id-1 input.sk-toggleable__control:checked~label.sk-toggleable__label-arrow:before {content: \"▾\";}#sk-container-id-1 div.sk-estimator input.sk-toggleable__control:checked~label.sk-toggleable__label {background-color: #d4ebff;}#sk-container-id-1 div.sk-label input.sk-toggleable__control:checked~label.sk-toggleable__label {background-color: #d4ebff;}#sk-container-id-1 input.sk-hidden--visually {border: 0;clip: rect(1px 1px 1px 1px);clip: rect(1px, 1px, 1px, 1px);height: 1px;margin: -1px;overflow: hidden;padding: 0;position: absolute;width: 1px;}#sk-container-id-1 div.sk-estimator {font-family: monospace;background-color: #f0f8ff;border: 1px dotted black;border-radius: 0.25em;box-sizing: border-box;margin-bottom: 0.5em;}#sk-container-id-1 div.sk-estimator:hover {background-color: #d4ebff;}#sk-container-id-1 div.sk-parallel-item::after {content: \"\";width: 100%;border-bottom: 1px solid gray;flex-grow: 1;}#sk-container-id-1 div.sk-label:hover label.sk-toggleable__label {background-color: #d4ebff;}#sk-container-id-1 div.sk-serial::before {content: \"\";position: absolute;border-left: 1px solid gray;box-sizing: border-box;top: 0;bottom: 0;left: 50%;z-index: 0;}#sk-container-id-1 div.sk-serial {display: flex;flex-direction: column;align-items: center;background-color: white;padding-right: 0.2em;padding-left: 0.2em;position: relative;}#sk-container-id-1 div.sk-item {position: relative;z-index: 1;}#sk-container-id-1 div.sk-parallel {display: flex;align-items: stretch;justify-content: center;background-color: white;position: relative;}#sk-container-id-1 div.sk-item::before, #sk-container-id-1 div.sk-parallel-item::before {content: \"\";position: absolute;border-left: 1px solid gray;box-sizing: border-box;top: 0;bottom: 0;left: 50%;z-index: -1;}#sk-container-id-1 div.sk-parallel-item {display: flex;flex-direction: column;z-index: 1;position: relative;background-color: white;}#sk-container-id-1 div.sk-parallel-item:first-child::after {align-self: flex-end;width: 50%;}#sk-container-id-1 div.sk-parallel-item:last-child::after {align-self: flex-start;width: 50%;}#sk-container-id-1 div.sk-parallel-item:only-child::after {width: 0;}#sk-container-id-1 div.sk-dashed-wrapped {border: 1px dashed gray;margin: 0 0.4em 0.5em 0.4em;box-sizing: border-box;padding-bottom: 0.4em;background-color: white;}#sk-container-id-1 div.sk-label label {font-family: monospace;font-weight: bold;display: inline-block;line-height: 1.2em;}#sk-container-id-1 div.sk-label-container {text-align: center;}#sk-container-id-1 div.sk-container {/* jupyter's `normalize.less` sets `[hidden] { display: none; }` but bootstrap.min.css set `[hidden] { display: none !important; }` so we also need the `!important` here to be able to override the default hidden behavior on the sphinx rendered scikit-learn.org. See: https://github.com/scikit-learn/scikit-learn/issues/21755 */display: inline-block !important;position: relative;}#sk-container-id-1 div.sk-text-repr-fallback {display: none;}</style><div id=\"sk-container-id-1\" class=\"sk-top-container\"><div class=\"sk-text-repr-fallback\"><pre>LogisticRegression()</pre><b>In a Jupyter environment, please rerun this cell to show the HTML representation or trust the notebook. <br />On GitHub, the HTML representation is unable to render, please try loading this page with nbviewer.org.</b></div><div class=\"sk-container\" hidden><div class=\"sk-item\"><div class=\"sk-estimator sk-toggleable\"><input class=\"sk-toggleable__control sk-hidden--visually\" id=\"sk-estimator-id-1\" type=\"checkbox\" checked><label for=\"sk-estimator-id-1\" class=\"sk-toggleable__label sk-toggleable__label-arrow\">LogisticRegression</label><div class=\"sk-toggleable__content\"><pre>LogisticRegression()</pre></div></div></div></div></div>"
      ],
      "text/plain": [
       "LogisticRegression()"
      ]
     },
     "execution_count": 20,
     "metadata": {},
     "output_type": "execute_result"
    }
   ],
   "source": [
    "# We create the model instance\n",
    "\n",
    "lrc = LogisticRegression()\n",
    "\n",
    "# Train the model with the data\n",
    "\n",
    "lrc.fit(x_train, y_train)"
   ]
  },
  {
   "cell_type": "code",
   "execution_count": 21,
   "id": "29a0f8d2",
   "metadata": {
    "execution": {
     "iopub.execute_input": "2025-04-01T00:14:28.671390Z",
     "iopub.status.busy": "2025-04-01T00:14:28.670894Z",
     "iopub.status.idle": "2025-04-01T00:14:28.687804Z",
     "shell.execute_reply": "2025-04-01T00:14:28.686412Z"
    },
    "papermill": {
     "duration": 0.03967,
     "end_time": "2025-04-01T00:14:28.690122",
     "exception": false,
     "start_time": "2025-04-01T00:14:28.650452",
     "status": "completed"
    },
    "tags": []
   },
   "outputs": [
    {
     "name": "stdout",
     "output_type": "stream",
     "text": [
      "Confusion matrix:\n",
      "\n",
      " [[ 73  46]\n",
      " [ 20 299]] \n",
      "\n",
      "Classification Report:\n",
      "\n",
      "               precision    recall  f1-score   support\n",
      "\n",
      "           0       0.78      0.61      0.69       119\n",
      "           1       0.87      0.94      0.90       319\n",
      "\n",
      "    accuracy                           0.85       438\n",
      "   macro avg       0.83      0.78      0.79       438\n",
      "weighted avg       0.84      0.85      0.84       438\n",
      "\n"
     ]
    }
   ],
   "source": [
    "# We make predictions\n",
    "\n",
    "prediction_lrc = lrc.predict(x_val)\n",
    "print(\n",
    "    \"Confusion matrix:\\n\\n\", \n",
    "    confusion_matrix(y_val, prediction_lrc),\n",
    "    \"\\n\\nClassification Report:\\n\\n\", \n",
    "    classification_report(y_val, prediction_lrc)\n",
    "     )"
   ]
  },
  {
   "cell_type": "code",
   "execution_count": 22,
   "id": "9b622d1d",
   "metadata": {
    "execution": {
     "iopub.execute_input": "2025-04-01T00:14:28.728704Z",
     "iopub.status.busy": "2025-04-01T00:14:28.728304Z",
     "iopub.status.idle": "2025-04-01T00:14:29.983825Z",
     "shell.execute_reply": "2025-04-01T00:14:29.982429Z"
    },
    "papermill": {
     "duration": 1.276806,
     "end_time": "2025-04-01T00:14:29.985675",
     "exception": false,
     "start_time": "2025-04-01T00:14:28.708869",
     "status": "completed"
    },
    "tags": []
   },
   "outputs": [
    {
     "name": "stdout",
     "output_type": "stream",
     "text": [
      "Parametros: {'C': 0.5, 'max_iter': 50, 'penalty': 'l2'}\n",
      "Puntaje: 0.8692942612942612\n"
     ]
    }
   ],
   "source": [
    "# We establish the parameters to test\n",
    "\n",
    "lrc_hyperparameters = {\n",
    "    \"C\": [0.5, 1.0, 1.5],\n",
    "    \"max_iter\": [50, 100, 150],\n",
    "    \"penalty\": [\"l1\",\"l2\",\"elasticnet\",\"none\"]\n",
    "}\n",
    "\n",
    "lrc_grid = GridSearchCV(\n",
    "    lrc,\n",
    "    lrc_hyperparameters,\n",
    "    cv=5,\n",
    "    scoring=\"accuracy\",\n",
    "    return_train_score=True\n",
    ")\n",
    "\n",
    "lrc_search = lrc_grid.fit(x_train, y_train)\n",
    "\n",
    "print(\n",
    "    f\"Parametros: {lrc_search.best_params_}\\nPuntaje: {lrc_search.best_score_}\"\n",
    ")"
   ]
  },
  {
   "cell_type": "code",
   "execution_count": 23,
   "id": "30784dc8",
   "metadata": {
    "execution": {
     "iopub.execute_input": "2025-04-01T00:14:30.024481Z",
     "iopub.status.busy": "2025-04-01T00:14:30.024041Z",
     "iopub.status.idle": "2025-04-01T00:14:30.041815Z",
     "shell.execute_reply": "2025-04-01T00:14:30.040628Z"
    },
    "papermill": {
     "duration": 0.038703,
     "end_time": "2025-04-01T00:14:30.043492",
     "exception": false,
     "start_time": "2025-04-01T00:14:30.004789",
     "status": "completed"
    },
    "tags": []
   },
   "outputs": [
    {
     "name": "stdout",
     "output_type": "stream",
     "text": [
      "Train - Accuracy score: 0.8710045662100456\n",
      "Test - Accuracy score: 0.8493150684931506\n",
      "\n",
      "Train - F1-Score: 0.8112094170241091\n",
      "Test - F1-Score: 0.7933075933075933\n"
     ]
    }
   ],
   "source": [
    "# We evaluate the accuracy and the f1-score\n",
    "\n",
    "evaluator(lrc_search, x_train, y_train, x_val, y_val)"
   ]
  },
  {
   "cell_type": "code",
   "execution_count": 24,
   "id": "bf925cef",
   "metadata": {
    "execution": {
     "iopub.execute_input": "2025-04-01T00:14:30.081779Z",
     "iopub.status.busy": "2025-04-01T00:14:30.081409Z",
     "iopub.status.idle": "2025-04-01T00:14:30.379311Z",
     "shell.execute_reply": "2025-04-01T00:14:30.377979Z"
    },
    "papermill": {
     "duration": 0.319097,
     "end_time": "2025-04-01T00:14:30.380921",
     "exception": false,
     "start_time": "2025-04-01T00:14:30.061824",
     "status": "completed"
    },
    "tags": []
   },
   "outputs": [
    {
     "data": {
      "image/png": "[encoded data removed]",
      "text/plain": [
       "<Figure size 600x400 with 2 Axes>"
      ]
     },
     "metadata": {},
     "output_type": "display_data"
    },
    {
     "name": "stdout",
     "output_type": "stream",
     "text": [
      "\n",
      "\n",
      "              precision    recall  f1-score   support\n",
      "\n",
      "     No Rain       0.79      0.61      0.69       119\n",
      "        Rain       0.86      0.94      0.90       319\n",
      "\n",
      "    accuracy                           0.85       438\n",
      "   macro avg       0.83      0.77      0.79       438\n",
      "weighted avg       0.84      0.85      0.84       438\n",
      "\n"
     ]
    }
   ],
   "source": [
    "# We graph the confusion matrix\n",
    "\n",
    "matrix_evaluator(\n",
    "    lrc_search, \n",
    "    x_val, \n",
    "    y_val, \n",
    "    [\"No Rain\", \"Rain\"], \n",
    "    \"Greens\"\n",
    ")"
   ]
  },
  {
   "cell_type": "markdown",
   "id": "591ce71b",
   "metadata": {
    "papermill": {
     "duration": 0.018652,
     "end_time": "2025-04-01T00:14:30.420850",
     "exception": false,
     "start_time": "2025-04-01T00:14:30.402198",
     "status": "completed"
    },
    "tags": []
   },
   "source": [
    "## LabelPropagation"
   ]
  },
  {
   "cell_type": "code",
   "execution_count": 25,
   "id": "affd070f",
   "metadata": {
    "execution": {
     "iopub.execute_input": "2025-04-01T00:14:30.461123Z",
     "iopub.status.busy": "2025-04-01T00:14:30.460749Z",
     "iopub.status.idle": "2025-04-01T00:14:30.540345Z",
     "shell.execute_reply": "2025-04-01T00:14:30.539146Z"
    },
    "papermill": {
     "duration": 0.101667,
     "end_time": "2025-04-01T00:14:30.542202",
     "exception": false,
     "start_time": "2025-04-01T00:14:30.440535",
     "status": "completed"
    },
    "tags": []
   },
   "outputs": [
    {
     "data": {
      "text/html": [
       "<style>#sk-container-id-2 {color: black;background-color: white;}#sk-container-id-2 pre{padding: 0;}#sk-container-id-2 div.sk-toggleable {background-color: white;}#sk-container-id-2 label.sk-toggleable__label {cursor: pointer;display: block;width: 100%;margin-bottom: 0;padding: 0.3em;box-sizing: border-box;text-align: center;}#sk-container-id-2 label.sk-toggleable__label-arrow:before {content: \"▸\";float: left;margin-right: 0.25em;color: #696969;}#sk-container-id-2 label.sk-toggleable__label-arrow:hover:before {color: black;}#sk-container-id-2 div.sk-estimator:hover label.sk-toggleable__label-arrow:before {color: black;}#sk-container-id-2 div.sk-toggleable__content {max-height: 0;max-width: 0;overflow: hidden;text-align: left;background-color: #f0f8ff;}#sk-container-id-2 div.sk-toggleable__content pre {margin: 0.2em;color: black;border-radius: 0.25em;background-color: #f0f8ff;}#sk-container-id-2 input.sk-toggleable__control:checked~div.sk-toggleable__content {max-height: 200px;max-width: 100%;overflow: auto;}#sk-container-id-2 input.sk-toggleable__control:checked~label.sk-toggleable__label-arrow:before {content: \"▾\";}#sk-container-id-2 div.sk-estimator input.sk-toggleable__control:checked~label.sk-toggleable__label {background-color: #d4ebff;}#sk-container-id-2 div.sk-label input.sk-toggleable__control:checked~label.sk-toggleable__label {background-color: #d4ebff;}#sk-container-id-2 input.sk-hidden--visually {border: 0;clip: rect(1px 1px 1px 1px);clip: rect(1px, 1px, 1px, 1px);height: 1px;margin: -1px;overflow: hidden;padding: 0;position: absolute;width: 1px;}#sk-container-id-2 div.sk-estimator {font-family: monospace;background-color: #f0f8ff;border: 1px dotted black;border-radius: 0.25em;box-sizing: border-box;margin-bottom: 0.5em;}#sk-container-id-2 div.sk-estimator:hover {background-color: #d4ebff;}#sk-container-id-2 div.sk-parallel-item::after {content: \"\";width: 100%;border-bottom: 1px solid gray;flex-grow: 1;}#sk-container-id-2 div.sk-label:hover label.sk-toggleable__label {background-color: #d4ebff;}#sk-container-id-2 div.sk-serial::before {content: \"\";position: absolute;border-left: 1px solid gray;box-sizing: border-box;top: 0;bottom: 0;left: 50%;z-index: 0;}#sk-container-id-2 div.sk-serial {display: flex;flex-direction: column;align-items: center;background-color: white;padding-right: 0.2em;padding-left: 0.2em;position: relative;}#sk-container-id-2 div.sk-item {position: relative;z-index: 1;}#sk-container-id-2 div.sk-parallel {display: flex;align-items: stretch;justify-content: center;background-color: white;position: relative;}#sk-container-id-2 div.sk-item::before, #sk-container-id-2 div.sk-parallel-item::before {content: \"\";position: absolute;border-left: 1px solid gray;box-sizing: border-box;top: 0;bottom: 0;left: 50%;z-index: -1;}#sk-container-id-2 div.sk-parallel-item {display: flex;flex-direction: column;z-index: 1;position: relative;background-color: white;}#sk-container-id-2 div.sk-parallel-item:first-child::after {align-self: flex-end;width: 50%;}#sk-container-id-2 div.sk-parallel-item:last-child::after {align-self: flex-start;width: 50%;}#sk-container-id-2 div.sk-parallel-item:only-child::after {width: 0;}#sk-container-id-2 div.sk-dashed-wrapped {border: 1px dashed gray;margin: 0 0.4em 0.5em 0.4em;box-sizing: border-box;padding-bottom: 0.4em;background-color: white;}#sk-container-id-2 div.sk-label label {font-family: monospace;font-weight: bold;display: inline-block;line-height: 1.2em;}#sk-container-id-2 div.sk-label-container {text-align: center;}#sk-container-id-2 div.sk-container {/* jupyter's `normalize.less` sets `[hidden] { display: none; }` but bootstrap.min.css set `[hidden] { display: none !important; }` so we also need the `!important` here to be able to override the default hidden behavior on the sphinx rendered scikit-learn.org. See: https://github.com/scikit-learn/scikit-learn/issues/21755 */display: inline-block !important;position: relative;}#sk-container-id-2 div.sk-text-repr-fallback {display: none;}</style><div id=\"sk-container-id-2\" class=\"sk-top-container\"><div class=\"sk-text-repr-fallback\"><pre>LabelPropagation()</pre><b>In a Jupyter environment, please rerun this cell to show the HTML representation or trust the notebook. <br />On GitHub, the HTML representation is unable to render, please try loading this page with nbviewer.org.</b></div><div class=\"sk-container\" hidden><div class=\"sk-item\"><div class=\"sk-estimator sk-toggleable\"><input class=\"sk-toggleable__control sk-hidden--visually\" id=\"sk-estimator-id-2\" type=\"checkbox\" checked><label for=\"sk-estimator-id-2\" class=\"sk-toggleable__label sk-toggleable__label-arrow\">LabelPropagation</label><div class=\"sk-toggleable__content\"><pre>LabelPropagation()</pre></div></div></div></div></div>"
      ],
      "text/plain": [
       "LabelPropagation()"
      ]
     },
     "execution_count": 25,
     "metadata": {},
     "output_type": "execute_result"
    }
   ],
   "source": [
    "# We create the model instance\n",
    "\n",
    "label_prop = LabelPropagation()\n",
    "\n",
    "# Train the model with the data\n",
    "\n",
    "label_prop.fit(x_train, y_train)"
   ]
  },
  {
   "cell_type": "code",
   "execution_count": 26,
   "id": "342c8354",
   "metadata": {
    "execution": {
     "iopub.execute_input": "2025-04-01T00:14:30.582143Z",
     "iopub.status.busy": "2025-04-01T00:14:30.581738Z",
     "iopub.status.idle": "2025-04-01T00:14:30.608594Z",
     "shell.execute_reply": "2025-04-01T00:14:30.607208Z"
    },
    "papermill": {
     "duration": 0.048801,
     "end_time": "2025-04-01T00:14:30.610429",
     "exception": false,
     "start_time": "2025-04-01T00:14:30.561628",
     "status": "completed"
    },
    "tags": []
   },
   "outputs": [
    {
     "name": "stdout",
     "output_type": "stream",
     "text": [
      "Confusion matrix:\n",
      "\n",
      " [[ 69  50]\n",
      " [ 27 292]] \n",
      "\n",
      "Classification Report:\n",
      "\n",
      "               precision    recall  f1-score   support\n",
      "\n",
      "           0       0.72      0.58      0.64       119\n",
      "           1       0.85      0.92      0.88       319\n",
      "\n",
      "    accuracy                           0.82       438\n",
      "   macro avg       0.79      0.75      0.76       438\n",
      "weighted avg       0.82      0.82      0.82       438\n",
      "\n"
     ]
    }
   ],
   "source": [
    "# We make predictions\n",
    "\n",
    "lp_prediction = label_prop.predict(x_val)\n",
    "print(\n",
    "    \"Confusion matrix:\\n\\n\", \n",
    "    confusion_matrix(y_val, lp_prediction),\n",
    "    \"\\n\\nClassification Report:\\n\\n\", \n",
    "    classification_report(y_val, lp_prediction)\n",
    "     )"
   ]
  },
  {
   "cell_type": "code",
   "execution_count": 27,
   "id": "68ae24fb",
   "metadata": {
    "execution": {
     "iopub.execute_input": "2025-04-01T00:14:30.651910Z",
     "iopub.status.busy": "2025-04-01T00:14:30.651533Z",
     "iopub.status.idle": "2025-04-01T00:14:47.741810Z",
     "shell.execute_reply": "2025-04-01T00:14:47.740169Z"
    },
    "papermill": {
     "duration": 17.113057,
     "end_time": "2025-04-01T00:14:47.743618",
     "exception": false,
     "start_time": "2025-04-01T00:14:30.630561",
     "status": "completed"
    },
    "tags": []
   },
   "outputs": [
    {
     "name": "stdout",
     "output_type": "stream",
     "text": [
      "Parametros: {'gamma': 10, 'kernel': 'knn', 'max_iter': 500, 'n_neighbors': 14}\n",
      "Puntaje: 0.8641562881562882\n"
     ]
    }
   ],
   "source": [
    "# We establish the parameters to test\n",
    "\n",
    "lp_hyperparameters = {\n",
    "    \"gamma\": [10, 20, 30],\n",
    "    \"kernel\" : [\"knn\", \"rbf\"],\n",
    "    \"max_iter\": [500, 1000, 1500],\n",
    "    \"n_neighbors\" : [4, 7, 14]\n",
    "}\n",
    "\n",
    "lp_grid = GridSearchCV(\n",
    "    label_prop,\n",
    "    lp_hyperparameters,\n",
    "    cv=5,\n",
    "    scoring=\"accuracy\",\n",
    "    return_train_score=True\n",
    ")\n",
    "\n",
    "lp_search = lp_grid.fit(x_train, y_train)\n",
    "\n",
    "print(\n",
    "    f\"Parametros: {lp_search.best_params_}\\nPuntaje: {lp_search.best_score_}\"\n",
    ")"
   ]
  },
  {
   "cell_type": "code",
   "execution_count": 28,
   "id": "a8c49a0a",
   "metadata": {
    "execution": {
     "iopub.execute_input": "2025-04-01T00:14:47.784301Z",
     "iopub.status.busy": "2025-04-01T00:14:47.783823Z",
     "iopub.status.idle": "2025-04-01T00:14:47.906001Z",
     "shell.execute_reply": "2025-04-01T00:14:47.904876Z"
    },
    "papermill": {
     "duration": 0.144635,
     "end_time": "2025-04-01T00:14:47.907879",
     "exception": false,
     "start_time": "2025-04-01T00:14:47.763244",
     "status": "completed"
    },
    "tags": []
   },
   "outputs": [
    {
     "name": "stdout",
     "output_type": "stream",
     "text": [
      "Train - Accuracy score: 0.8818493150684932\n",
      "Test - Accuracy score: 0.8401826484018264\n",
      "\n",
      "Train - F1-Score: 0.83337123859224\n",
      "Test - F1-Score: 0.7821948170038646\n"
     ]
    }
   ],
   "source": [
    "# We evaluate the accuracy and the f1-score\n",
    "\n",
    "evaluator(lp_search, x_train, y_train, x_val, y_val)"
   ]
  },
  {
   "cell_type": "code",
   "execution_count": 29,
   "id": "455cfc5e",
   "metadata": {
    "execution": {
     "iopub.execute_input": "2025-04-01T00:14:47.948689Z",
     "iopub.status.busy": "2025-04-01T00:14:47.948280Z",
     "iopub.status.idle": "2025-04-01T00:14:48.168233Z",
     "shell.execute_reply": "2025-04-01T00:14:48.166983Z"
    },
    "papermill": {
     "duration": 0.242443,
     "end_time": "2025-04-01T00:14:48.170039",
     "exception": false,
     "start_time": "2025-04-01T00:14:47.927596",
     "status": "completed"
    },
    "tags": []
   },
   "outputs": [
    {
     "data": {
      "image/png": "[encoded data removed]",
      "text/plain": [
       "<Figure size 600x400 with 2 Axes>"
      ]
     },
     "metadata": {},
     "output_type": "display_data"
    },
    {
     "name": "stdout",
     "output_type": "stream",
     "text": [
      "\n",
      "\n",
      "              precision    recall  f1-score   support\n",
      "\n",
      "     No Rain       0.76      0.60      0.67       119\n",
      "        Rain       0.86      0.93      0.89       319\n",
      "\n",
      "    accuracy                           0.84       438\n",
      "   macro avg       0.81      0.76      0.78       438\n",
      "weighted avg       0.83      0.84      0.83       438\n",
      "\n"
     ]
    }
   ],
   "source": [
    "# We graph the confusion matrix\n",
    "\n",
    "matrix_evaluator(\n",
    "    lp_search, \n",
    "    x_val, \n",
    "    y_val, \n",
    "    [\"No Rain\", \"Rain\"], \n",
    "    \"Greens\"\n",
    ")"
   ]
  },
  {
   "cell_type": "markdown",
   "id": "8d5c4a51",
   "metadata": {
    "papermill": {
     "duration": 0.019738,
     "end_time": "2025-04-01T00:14:48.210602",
     "exception": false,
     "start_time": "2025-04-01T00:14:48.190864",
     "status": "completed"
    },
    "tags": []
   },
   "source": [
    "## XGBClassifier"
   ]
  },
  {
   "cell_type": "code",
   "execution_count": 30,
   "id": "7b0eeffa",
   "metadata": {
    "execution": {
     "iopub.execute_input": "2025-04-01T00:14:48.252040Z",
     "iopub.status.busy": "2025-04-01T00:14:48.251708Z",
     "iopub.status.idle": "2025-04-01T00:14:48.394388Z",
     "shell.execute_reply": "2025-04-01T00:14:48.393206Z"
    },
    "papermill": {
     "duration": 0.165468,
     "end_time": "2025-04-01T00:14:48.396192",
     "exception": false,
     "start_time": "2025-04-01T00:14:48.230724",
     "status": "completed"
    },
    "tags": []
   },
   "outputs": [
    {
     "data": {
      "text/html": [
       "<style>#sk-container-id-3 {color: black;background-color: white;}#sk-container-id-3 pre{padding: 0;}#sk-container-id-3 div.sk-toggleable {background-color: white;}#sk-container-id-3 label.sk-toggleable__label {cursor: pointer;display: block;width: 100%;margin-bottom: 0;padding: 0.3em;box-sizing: border-box;text-align: center;}#sk-container-id-3 label.sk-toggleable__label-arrow:before {content: \"▸\";float: left;margin-right: 0.25em;color: #696969;}#sk-container-id-3 label.sk-toggleable__label-arrow:hover:before {color: black;}#sk-container-id-3 div.sk-estimator:hover label.sk-toggleable__label-arrow:before {color: black;}#sk-container-id-3 div.sk-toggleable__content {max-height: 0;max-width: 0;overflow: hidden;text-align: left;background-color: #f0f8ff;}#sk-container-id-3 div.sk-toggleable__content pre {margin: 0.2em;color: black;border-radius: 0.25em;background-color: #f0f8ff;}#sk-container-id-3 input.sk-toggleable__control:checked~div.sk-toggleable__content {max-height: 200px;max-width: 100%;overflow: auto;}#sk-container-id-3 input.sk-toggleable__control:checked~label.sk-toggleable__label-arrow:before {content: \"▾\";}#sk-container-id-3 div.sk-estimator input.sk-toggleable__control:checked~label.sk-toggleable__label {background-color: #d4ebff;}#sk-container-id-3 div.sk-label input.sk-toggleable__control:checked~label.sk-toggleable__label {background-color: #d4ebff;}#sk-container-id-3 input.sk-hidden--visually {border: 0;clip: rect(1px 1px 1px 1px);clip: rect(1px, 1px, 1px, 1px);height: 1px;margin: -1px;overflow: hidden;padding: 0;position: absolute;width: 1px;}#sk-container-id-3 div.sk-estimator {font-family: monospace;background-color: #f0f8ff;border: 1px dotted black;border-radius: 0.25em;box-sizing: border-box;margin-bottom: 0.5em;}#sk-container-id-3 div.sk-estimator:hover {background-color: #d4ebff;}#sk-container-id-3 div.sk-parallel-item::after {content: \"\";width: 100%;border-bottom: 1px solid gray;flex-grow: 1;}#sk-container-id-3 div.sk-label:hover label.sk-toggleable__label {background-color: #d4ebff;}#sk-container-id-3 div.sk-serial::before {content: \"\";position: absolute;border-left: 1px solid gray;box-sizing: border-box;top: 0;bottom: 0;left: 50%;z-index: 0;}#sk-container-id-3 div.sk-serial {display: flex;flex-direction: column;align-items: center;background-color: white;padding-right: 0.2em;padding-left: 0.2em;position: relative;}#sk-container-id-3 div.sk-item {position: relative;z-index: 1;}#sk-container-id-3 div.sk-parallel {display: flex;align-items: stretch;justify-content: center;background-color: white;position: relative;}#sk-container-id-3 div.sk-item::before, #sk-container-id-3 div.sk-parallel-item::before {content: \"\";position: absolute;border-left: 1px solid gray;box-sizing: border-box;top: 0;bottom: 0;left: 50%;z-index: -1;}#sk-container-id-3 div.sk-parallel-item {display: flex;flex-direction: column;z-index: 1;position: relative;background-color: white;}#sk-container-id-3 div.sk-parallel-item:first-child::after {align-self: flex-end;width: 50%;}#sk-container-id-3 div.sk-parallel-item:last-child::after {align-self: flex-start;width: 50%;}#sk-container-id-3 div.sk-parallel-item:only-child::after {width: 0;}#sk-container-id-3 div.sk-dashed-wrapped {border: 1px dashed gray;margin: 0 0.4em 0.5em 0.4em;box-sizing: border-box;padding-bottom: 0.4em;background-color: white;}#sk-container-id-3 div.sk-label label {font-family: monospace;font-weight: bold;display: inline-block;line-height: 1.2em;}#sk-container-id-3 div.sk-label-container {text-align: center;}#sk-container-id-3 div.sk-container {/* jupyter's `normalize.less` sets `[hidden] { display: none; }` but bootstrap.min.css set `[hidden] { display: none !important; }` so we also need the `!important` here to be able to override the default hidden behavior on the sphinx rendered scikit-learn.org. See: https://github.com/scikit-learn/scikit-learn/issues/21755 */display: inline-block !important;position: relative;}#sk-container-id-3 div.sk-text-repr-fallback {display: none;}</style><div id=\"sk-container-id-3\" class=\"sk-top-container\"><div class=\"sk-text-repr-fallback\"><pre>XGBClassifier(base_score=None, booster=None, callbacks=None,\n",
       "              colsample_bylevel=None, colsample_bynode=None,\n",
       "              colsample_bytree=None, device=None, early_stopping_rounds=None,\n",
       "              enable_categorical=False, eval_metric=None, feature_types=None,\n",
       "              gamma=None, grow_policy=None, importance_type=None,\n",
       "              interaction_constraints=None, learning_rate=None, max_bin=None,\n",
       "              max_cat_threshold=None, max_cat_to_onehot=None,\n",
       "              max_delta_step=None, max_depth=None, max_leaves=None,\n",
       "              min_child_weight=None, missing=nan, monotone_constraints=None,\n",
       "              multi_strategy=None, n_estimators=None, n_jobs=None,\n",
       "              num_parallel_tree=None, random_state=None, ...)</pre><b>In a Jupyter environment, please rerun this cell to show the HTML representation or trust the notebook. <br />On GitHub, the HTML representation is unable to render, please try loading this page with nbviewer.org.</b></div><div class=\"sk-container\" hidden><div class=\"sk-item\"><div class=\"sk-estimator sk-toggleable\"><input class=\"sk-toggleable__control sk-hidden--visually\" id=\"sk-estimator-id-3\" type=\"checkbox\" checked><label for=\"sk-estimator-id-3\" class=\"sk-toggleable__label sk-toggleable__label-arrow\">XGBClassifier</label><div class=\"sk-toggleable__content\"><pre>XGBClassifier(base_score=None, booster=None, callbacks=None,\n",
       "              colsample_bylevel=None, colsample_bynode=None,\n",
       "              colsample_bytree=None, device=None, early_stopping_rounds=None,\n",
       "              enable_categorical=False, eval_metric=None, feature_types=None,\n",
       "              gamma=None, grow_policy=None, importance_type=None,\n",
       "              interaction_constraints=None, learning_rate=None, max_bin=None,\n",
       "              max_cat_threshold=None, max_cat_to_onehot=None,\n",
       "              max_delta_step=None, max_depth=None, max_leaves=None,\n",
       "              min_child_weight=None, missing=nan, monotone_constraints=None,\n",
       "              multi_strategy=None, n_estimators=None, n_jobs=None,\n",
       "              num_parallel_tree=None, random_state=None, ...)</pre></div></div></div></div></div>"
      ],
      "text/plain": [
       "XGBClassifier(base_score=None, booster=None, callbacks=None,\n",
       "              colsample_bylevel=None, colsample_bynode=None,\n",
       "              colsample_bytree=None, device=None, early_stopping_rounds=None,\n",
       "              enable_categorical=False, eval_metric=None, feature_types=None,\n",
       "              gamma=None, grow_policy=None, importance_type=None,\n",
       "              interaction_constraints=None, learning_rate=None, max_bin=None,\n",
       "              max_cat_threshold=None, max_cat_to_onehot=None,\n",
       "              max_delta_step=None, max_depth=None, max_leaves=None,\n",
       "              min_child_weight=None, missing=nan, monotone_constraints=None,\n",
       "              multi_strategy=None, n_estimators=None, n_jobs=None,\n",
       "              num_parallel_tree=None, random_state=None, ...)"
      ]
     },
     "execution_count": 30,
     "metadata": {},
     "output_type": "execute_result"
    }
   ],
   "source": [
    "# We create the model instance\n",
    "\n",
    "xgbc = xgb.XGBClassifier()\n",
    "\n",
    "# Train the model with the data\n",
    "\n",
    "xgbc.fit(x_train, y_train)"
   ]
  },
  {
   "cell_type": "code",
   "execution_count": 31,
   "id": "a8aa2633",
   "metadata": {
    "execution": {
     "iopub.execute_input": "2025-04-01T00:14:48.438588Z",
     "iopub.status.busy": "2025-04-01T00:14:48.438228Z",
     "iopub.status.idle": "2025-04-01T00:14:48.459971Z",
     "shell.execute_reply": "2025-04-01T00:14:48.458601Z"
    },
    "papermill": {
     "duration": 0.04536,
     "end_time": "2025-04-01T00:14:48.462101",
     "exception": false,
     "start_time": "2025-04-01T00:14:48.416741",
     "status": "completed"
    },
    "tags": []
   },
   "outputs": [
    {
     "name": "stdout",
     "output_type": "stream",
     "text": [
      "Confusion matrix:\n",
      "\n",
      " [[ 68  51]\n",
      " [ 22 297]] \n",
      "\n",
      "Classification Report:\n",
      "\n",
      "               precision    recall  f1-score   support\n",
      "\n",
      "           0       0.76      0.57      0.65       119\n",
      "           1       0.85      0.93      0.89       319\n",
      "\n",
      "    accuracy                           0.83       438\n",
      "   macro avg       0.80      0.75      0.77       438\n",
      "weighted avg       0.83      0.83      0.83       438\n",
      "\n"
     ]
    }
   ],
   "source": [
    "# We make predictions\n",
    "\n",
    "xgbc_prediction = xgbc.predict(x_val)\n",
    "print(\n",
    "    \"Confusion matrix:\\n\\n\", \n",
    "    confusion_matrix(y_val, xgbc_prediction),\n",
    "    \"\\n\\nClassification Report:\\n\\n\", \n",
    "    classification_report(y_val, xgbc_prediction)\n",
    "     )"
   ]
  },
  {
   "cell_type": "code",
   "execution_count": 32,
   "id": "97369914",
   "metadata": {
    "execution": {
     "iopub.execute_input": "2025-04-01T00:14:48.505090Z",
     "iopub.status.busy": "2025-04-01T00:14:48.504703Z",
     "iopub.status.idle": "2025-04-01T00:15:23.444786Z",
     "shell.execute_reply": "2025-04-01T00:15:23.443828Z"
    },
    "papermill": {
     "duration": 34.984555,
     "end_time": "2025-04-01T00:15:23.467518",
     "exception": false,
     "start_time": "2025-04-01T00:14:48.482963",
     "status": "completed"
    },
    "tags": []
   },
   "outputs": [
    {
     "name": "stdout",
     "output_type": "stream",
     "text": [
      "Parametros: {'alpha': 1, 'gamma': 1, 'max_depth': 8, 'n_estimators': 100, 'scale_pos_weight': 1, 'subsample': 1}\n",
      "Puntaje: 0.8670150590150592\n"
     ]
    }
   ],
   "source": [
    "# We establish the parameters to test\n",
    "\n",
    "xgbc_hyperparameters = {\n",
    "    \"n_estimators\": [100, 150],\n",
    "    \"max_depth\" : [6, 8],\n",
    "    \"gamma\" : [0, 1],\n",
    "    \"alpha\" : [0, 1],\n",
    "    \"subsample\" : [0.5, 1],\n",
    "    \"scale_pos_weight\" : [1, 2]\n",
    "}\n",
    "\n",
    "xgbc_grid = GridSearchCV(\n",
    "    xgbc,\n",
    "    xgbc_hyperparameters,\n",
    "    cv=5,\n",
    "    scoring=\"accuracy\",\n",
    "    return_train_score=True\n",
    ")\n",
    "\n",
    "xgbc_search = xgbc_grid.fit(x_train, y_train)\n",
    "\n",
    "print(\n",
    "    f\"Parametros: {xgbc_search.best_params_}\\nPuntaje: {xgbc_search.best_score_}\"\n",
    ")"
   ]
  },
  {
   "cell_type": "code",
   "execution_count": 33,
   "id": "d14b7beb",
   "metadata": {
    "execution": {
     "iopub.execute_input": "2025-04-01T00:15:23.510752Z",
     "iopub.status.busy": "2025-04-01T00:15:23.510363Z",
     "iopub.status.idle": "2025-04-01T00:15:23.535542Z",
     "shell.execute_reply": "2025-04-01T00:15:23.534246Z"
    },
    "papermill": {
     "duration": 0.048923,
     "end_time": "2025-04-01T00:15:23.537562",
     "exception": false,
     "start_time": "2025-04-01T00:15:23.488639",
     "status": "completed"
    },
    "tags": []
   },
   "outputs": [
    {
     "name": "stdout",
     "output_type": "stream",
     "text": [
      "Train - Accuracy score: 0.9286529680365296\n",
      "Test - Accuracy score: 0.860730593607306\n",
      "\n",
      "Train - F1-Score: 0.899553033934104\n",
      "Test - F1-Score: 0.8119973261091369\n"
     ]
    }
   ],
   "source": [
    "# We evaluate the accuracy and the f1-score\n",
    "\n",
    "evaluator(xgbc_search, x_train, y_train, x_val, y_val)"
   ]
  },
  {
   "cell_type": "code",
   "execution_count": 34,
   "id": "b0e172c9",
   "metadata": {
    "execution": {
     "iopub.execute_input": "2025-04-01T00:15:23.581757Z",
     "iopub.status.busy": "2025-04-01T00:15:23.581375Z",
     "iopub.status.idle": "2025-04-01T00:15:23.802570Z",
     "shell.execute_reply": "2025-04-01T00:15:23.801313Z"
    },
    "papermill": {
     "duration": 0.244796,
     "end_time": "2025-04-01T00:15:23.804544",
     "exception": false,
     "start_time": "2025-04-01T00:15:23.559748",
     "status": "completed"
    },
    "tags": []
   },
   "outputs": [
    {
     "data": {
      "image/png": "[encoded data removed]",
      "text/plain": [
       "<Figure size 600x400 with 2 Axes>"
      ]
     },
     "metadata": {},
     "output_type": "display_data"
    },
    {
     "name": "stdout",
     "output_type": "stream",
     "text": [
      "\n",
      "\n",
      "              precision    recall  f1-score   support\n",
      "\n",
      "     No Rain       0.80      0.65      0.72       119\n",
      "        Rain       0.88      0.94      0.91       319\n",
      "\n",
      "    accuracy                           0.86       438\n",
      "   macro avg       0.84      0.79      0.81       438\n",
      "weighted avg       0.86      0.86      0.86       438\n",
      "\n"
     ]
    }
   ],
   "source": [
    "# We graph the confusion matrix\n",
    "\n",
    "matrix_evaluator(\n",
    "    xgbc_search, \n",
    "    x_val, \n",
    "    y_val, \n",
    "    [\"No Rain\", \"Rain\"], \n",
    "    \"Greens\"\n",
    ")"
   ]
  },
  {
   "cell_type": "code",
   "execution_count": 35,
   "id": "06ec95c1",
   "metadata": {
    "execution": {
     "iopub.execute_input": "2025-04-01T00:15:23.848811Z",
     "iopub.status.busy": "2025-04-01T00:15:23.848464Z",
     "iopub.status.idle": "2025-04-01T00:16:36.196278Z",
     "shell.execute_reply": "2025-04-01T00:16:36.195176Z"
    },
    "papermill": {
     "duration": 72.392481,
     "end_time": "2025-04-01T00:16:36.218757",
     "exception": false,
     "start_time": "2025-04-01T00:15:23.826276",
     "status": "completed"
    },
    "tags": []
   },
   "outputs": [
    {
     "name": "stdout",
     "output_type": "stream",
     "text": [
      "Parametros: {'alpha': 1, 'gamma': 1, 'max_depth': 8, 'n_estimators': 100, 'scale_pos_weight': 1, 'subsample': 1}\n",
      "Puntaje: 0.8664512987012987\n"
     ]
    }
   ],
   "source": [
    "# We tested a new grid with cv=10\n",
    "\n",
    "xgbc_grid_two = GridSearchCV(\n",
    "    xgbc,\n",
    "    xgbc_hyperparameters,\n",
    "    cv=10,\n",
    "    scoring=\"accuracy\",\n",
    "    return_train_score=True\n",
    ")\n",
    "\n",
    "xgbc_search_two = xgbc_grid_two.fit(x_train, y_train)\n",
    "\n",
    "print(\n",
    "    f\"Parametros: {xgbc_search_two.best_params_}\\nPuntaje: {xgbc_search_two.best_score_}\"\n",
    ")"
   ]
  },
  {
   "cell_type": "code",
   "execution_count": 36,
   "id": "ad10f716",
   "metadata": {
    "execution": {
     "iopub.execute_input": "2025-04-01T00:16:36.262673Z",
     "iopub.status.busy": "2025-04-01T00:16:36.262289Z",
     "iopub.status.idle": "2025-04-01T00:16:36.281436Z",
     "shell.execute_reply": "2025-04-01T00:16:36.280009Z"
    },
    "papermill": {
     "duration": 0.043075,
     "end_time": "2025-04-01T00:16:36.283114",
     "exception": false,
     "start_time": "2025-04-01T00:16:36.240039",
     "status": "completed"
    },
    "tags": []
   },
   "outputs": [
    {
     "name": "stdout",
     "output_type": "stream",
     "text": [
      "Confusion matrix:\n",
      "\n",
      " [[ 77  42]\n",
      " [ 19 300]] \n",
      "\n",
      "Classification Report:\n",
      "\n",
      "               precision    recall  f1-score   support\n",
      "\n",
      "           0       0.80      0.65      0.72       119\n",
      "           1       0.88      0.94      0.91       319\n",
      "\n",
      "    accuracy                           0.86       438\n",
      "   macro avg       0.84      0.79      0.81       438\n",
      "weighted avg       0.86      0.86      0.86       438\n",
      "\n"
     ]
    }
   ],
   "source": [
    "# We make predictions\n",
    "\n",
    "xgbc_prediction_two = xgbc_search_two.predict(x_val)\n",
    "print(\n",
    "    \"Confusion matrix:\\n\\n\", \n",
    "    confusion_matrix(y_val, xgbc_prediction_two),\n",
    "    \"\\n\\nClassification Report:\\n\\n\", \n",
    "    classification_report(y_val, xgbc_prediction_two)\n",
    "     )"
   ]
  },
  {
   "cell_type": "markdown",
   "id": "ae167c80",
   "metadata": {
    "papermill": {
     "duration": 0.021423,
     "end_time": "2025-04-01T00:16:36.325920",
     "exception": false,
     "start_time": "2025-04-01T00:16:36.304497",
     "status": "completed"
    },
    "tags": []
   },
   "source": [
    "## CatBoostClassifier"
   ]
  },
  {
   "cell_type": "code",
   "execution_count": 37,
   "id": "adae1364",
   "metadata": {
    "execution": {
     "iopub.execute_input": "2025-04-01T00:16:36.369995Z",
     "iopub.status.busy": "2025-04-01T00:16:36.369659Z",
     "iopub.status.idle": "2025-04-01T00:16:38.349234Z",
     "shell.execute_reply": "2025-04-01T00:16:38.348082Z"
    },
    "papermill": {
     "duration": 2.003892,
     "end_time": "2025-04-01T00:16:38.351303",
     "exception": false,
     "start_time": "2025-04-01T00:16:36.347411",
     "status": "completed"
    },
    "tags": []
   },
   "outputs": [
    {
     "data": {
      "text/plain": [
       "<catboost.core.CatBoostClassifier at 0x784b5fa7d3f0>"
      ]
     },
     "execution_count": 37,
     "metadata": {},
     "output_type": "execute_result"
    }
   ],
   "source": [
    "# We create the model instance\n",
    "\n",
    "cbc = CatBoostClassifier(silent=True)\n",
    "\n",
    "# Train the model with the data\n",
    "\n",
    "cbc.fit(x_train, y_train)"
   ]
  },
  {
   "cell_type": "code",
   "execution_count": 38,
   "id": "c2b9e7e8",
   "metadata": {
    "execution": {
     "iopub.execute_input": "2025-04-01T00:16:38.396666Z",
     "iopub.status.busy": "2025-04-01T00:16:38.396266Z",
     "iopub.status.idle": "2025-04-01T00:16:38.414515Z",
     "shell.execute_reply": "2025-04-01T00:16:38.413192Z"
    },
    "papermill": {
     "duration": 0.043198,
     "end_time": "2025-04-01T00:16:38.416574",
     "exception": false,
     "start_time": "2025-04-01T00:16:38.373376",
     "status": "completed"
    },
    "tags": []
   },
   "outputs": [
    {
     "name": "stdout",
     "output_type": "stream",
     "text": [
      "Confusion matrix:\n",
      "\n",
      " [[ 73  46]\n",
      " [ 19 300]] \n",
      "\n",
      "Classification Report:\n",
      "\n",
      "               precision    recall  f1-score   support\n",
      "\n",
      "           0       0.79      0.61      0.69       119\n",
      "           1       0.87      0.94      0.90       319\n",
      "\n",
      "    accuracy                           0.85       438\n",
      "   macro avg       0.83      0.78      0.80       438\n",
      "weighted avg       0.85      0.85      0.85       438\n",
      "\n"
     ]
    }
   ],
   "source": [
    "# We make predictions\n",
    "\n",
    "prediction_cbc = cbc.predict(x_val)\n",
    "print(\n",
    "    \"Confusion matrix:\\n\\n\", \n",
    "    confusion_matrix(y_val, prediction_cbc),\n",
    "    \"\\n\\nClassification Report:\\n\\n\", \n",
    "    classification_report(y_val, prediction_cbc)\n",
    "     )"
   ]
  },
  {
   "cell_type": "code",
   "execution_count": 39,
   "id": "05e4146e",
   "metadata": {
    "execution": {
     "iopub.execute_input": "2025-04-01T00:16:38.462040Z",
     "iopub.status.busy": "2025-04-01T00:16:38.461703Z",
     "iopub.status.idle": "2025-04-01T00:16:45.782774Z",
     "shell.execute_reply": "2025-04-01T00:16:45.781406Z"
    },
    "papermill": {
     "duration": 7.346413,
     "end_time": "2025-04-01T00:16:45.785048",
     "exception": false,
     "start_time": "2025-04-01T00:16:38.438635",
     "status": "completed"
    },
    "tags": []
   },
   "outputs": [
    {
     "name": "stdout",
     "output_type": "stream",
     "text": [
      "Parametros: {'bagging_temperature': 0.07, 'depth': 4, 'l2_leaf_reg': 9, 'learning_rate': 0.09}\n",
      "Puntaje: 0.8573072853072853\n"
     ]
    }
   ],
   "source": [
    "# We establish the parameters to test\n",
    "\n",
    "cbc_hyperparameters = {\n",
    "    \"depth\": [4],\n",
    "    \"learning_rate\": [0.09],\n",
    "    #\"iterations\": [500, 1000],\n",
    "    \"l2_leaf_reg\": [9],\n",
    "    \"bagging_temperature\": [0.07]\n",
    "}\n",
    "\n",
    "cbc_grid = GridSearchCV(\n",
    "    cbc,\n",
    "    cbc_hyperparameters,\n",
    "    cv=5,\n",
    "    scoring=\"accuracy\",\n",
    "    return_train_score=True\n",
    ")\n",
    "\n",
    "cbc_search = cbc_grid.fit(x_train, y_train)\n",
    "\n",
    "print(\n",
    "    f\"Parametros: {cbc_search.best_params_}\\nPuntaje: {cbc_search.best_score_}\"\n",
    ")"
   ]
  },
  {
   "cell_type": "markdown",
   "id": "45a02212",
   "metadata": {
    "papermill": {
     "duration": 0.021776,
     "end_time": "2025-04-01T00:16:45.836027",
     "exception": false,
     "start_time": "2025-04-01T00:16:45.814251",
     "status": "completed"
    },
    "tags": []
   },
   "source": [
    "cbc_hyperparameters = {\n",
    "\n",
    "    \"depth\": [4, 6, 8, 10],\n",
    "    \n",
    "    \"learning_rate\": [0.08, 0.09, 0.1, 0.2],\n",
    "    \n",
    "    #\"iterations\": [500, 1000],\n",
    "    \n",
    "    \"l2_leaf_reg\": [1, 3, 6, 9],\n",
    "    \n",
    "    \"bagging_temperature\": [0.07, 0.08, 0.09, 0.1]\n",
    "    \n",
    "}\n",
    "\n",
    "Parametros: {'depth': 4}\n",
    "Puntaje: 0.8721514041514041\n",
    "\n",
    "Parametros: {'learning_rate': 0.09}\n",
    "Puntaje: 0.8567342287342289\n",
    "\n",
    "Parametros: {'l2_leaf_reg': 9}\n",
    "Puntaje: 0.8635929995929995\n",
    "\n",
    "Parametros: {'bagging_temperature': 0.07}\n",
    "Puntaje: 0.8698705738705739"
   ]
  },
  {
   "cell_type": "code",
   "execution_count": 40,
   "id": "757604b4",
   "metadata": {
    "execution": {
     "iopub.execute_input": "2025-04-01T00:16:45.886710Z",
     "iopub.status.busy": "2025-04-01T00:16:45.886327Z",
     "iopub.status.idle": "2025-04-01T00:16:45.908675Z",
     "shell.execute_reply": "2025-04-01T00:16:45.907161Z"
    },
    "papermill": {
     "duration": 0.049331,
     "end_time": "2025-04-01T00:16:45.910606",
     "exception": false,
     "start_time": "2025-04-01T00:16:45.861275",
     "status": "completed"
    },
    "tags": []
   },
   "outputs": [
    {
     "name": "stdout",
     "output_type": "stream",
     "text": [
      "Train - Accuracy score: 0.9834474885844748\n",
      "Test - Accuracy score: 0.8401826484018264\n",
      "\n",
      "Train - F1-Score: 0.9768951098560037\n",
      "Test - F1-Score: 0.779335559649931\n"
     ]
    }
   ],
   "source": [
    "# We evaluate the accuracy and the f1-score\n",
    "\n",
    "evaluator(cbc_search, x_train, y_train, x_val, y_val)"
   ]
  },
  {
   "cell_type": "code",
   "execution_count": 41,
   "id": "775570e6",
   "metadata": {
    "execution": {
     "iopub.execute_input": "2025-04-01T00:16:45.955872Z",
     "iopub.status.busy": "2025-04-01T00:16:45.955501Z",
     "iopub.status.idle": "2025-04-01T00:16:46.171336Z",
     "shell.execute_reply": "2025-04-01T00:16:46.170129Z"
    },
    "papermill": {
     "duration": 0.240506,
     "end_time": "2025-04-01T00:16:46.173226",
     "exception": false,
     "start_time": "2025-04-01T00:16:45.932720",
     "status": "completed"
    },
    "tags": []
   },
   "outputs": [
    {
     "data": {
      "image/png": "[encoded data removed]",
      "text/plain": [
       "<Figure size 600x400 with 2 Axes>"
      ]
     },
     "metadata": {},
     "output_type": "display_data"
    },
    {
     "name": "stdout",
     "output_type": "stream",
     "text": [
      "\n",
      "\n",
      "              precision    recall  f1-score   support\n",
      "\n",
      "     No Rain       0.78      0.58      0.66       119\n",
      "        Rain       0.86      0.94      0.90       319\n",
      "\n",
      "    accuracy                           0.84       438\n",
      "   macro avg       0.82      0.76      0.78       438\n",
      "weighted avg       0.83      0.84      0.83       438\n",
      "\n"
     ]
    }
   ],
   "source": [
    "# We graph the confusion matrix\n",
    "\n",
    "matrix_evaluator(\n",
    "    cbc_search, \n",
    "    x_val, \n",
    "    y_val, \n",
    "    [\"No Rain\", \"Rain\"], \n",
    "    \"Greens\"\n",
    ")"
   ]
  },
  {
   "cell_type": "code",
   "execution_count": 42,
   "id": "60b96ed1",
   "metadata": {
    "execution": {
     "iopub.execute_input": "2025-04-01T00:16:46.219899Z",
     "iopub.status.busy": "2025-04-01T00:16:46.219523Z",
     "iopub.status.idle": "2025-04-01T00:16:46.250759Z",
     "shell.execute_reply": "2025-04-01T00:16:46.249462Z"
    },
    "papermill": {
     "duration": 0.056757,
     "end_time": "2025-04-01T00:16:46.252751",
     "exception": false,
     "start_time": "2025-04-01T00:16:46.195994",
     "status": "completed"
    },
    "tags": []
   },
   "outputs": [
    {
     "name": "stdout",
     "output_type": "stream",
     "text": [
      "LogisticRegression accuracy score: 0.849\n",
      " \n",
      "LabelPropagation accuracy score: 0.840\n",
      " \n",
      "XGBClassifier accuracy score: 0.861\n",
      " \n",
      "CatBoostClassifier accuracy score: 0.840\n",
      "\n"
     ]
    }
   ],
   "source": [
    "# We obtain the accuracy score of the models\n",
    "\n",
    "y_val_pred_lrc = lrc_search.predict(x_val)\n",
    "y_val_pred_lp = lp_search.predict(x_val)\n",
    "y_val_pred_xgbc = xgbc_search.predict(x_val)\n",
    "y_val_pred_cbc = cbc_search.predict(x_val)\n",
    "\n",
    "lr_model = accuracy_score(y_val, y_val_pred_lrc)\n",
    "lp_model = accuracy_score(y_val, y_val_pred_lp)\n",
    "xgbc_model = accuracy_score(y_val, y_val_pred_xgbc)\n",
    "cbc_model = accuracy_score(y_val, y_val_pred_cbc)\n",
    "\n",
    "# We compare the accuracy of the models\n",
    "\n",
    "print(\n",
    "    \"LogisticRegression accuracy score: {0:0.3f}\\n\".format(lr_model),\n",
    "    \"\\nLabelPropagation accuracy score: {0:0.3f}\\n\".format(lp_model),\n",
    "    \"\\nXGBClassifier accuracy score: {0:0.3f}\\n\".format(xgbc_model),\n",
    "    \"\\nCatBoostClassifier accuracy score: {0:0.3f}\\n\".format(cbc_model)\n",
    ")"
   ]
  },
  {
   "cell_type": "code",
   "execution_count": 43,
   "id": "7085b14e",
   "metadata": {
    "execution": {
     "iopub.execute_input": "2025-04-01T00:16:46.299145Z",
     "iopub.status.busy": "2025-04-01T00:16:46.298756Z",
     "iopub.status.idle": "2025-04-01T00:16:46.374216Z",
     "shell.execute_reply": "2025-04-01T00:16:46.372780Z"
    },
    "papermill": {
     "duration": 0.100749,
     "end_time": "2025-04-01T00:16:46.376097",
     "exception": false,
     "start_time": "2025-04-01T00:16:46.275348",
     "status": "completed"
    },
    "tags": []
   },
   "outputs": [
    {
     "name": "stdout",
     "output_type": "stream",
     "text": [
      "\n",
      "Untrained model: ROC AUC = 0.500\n",
      "\n",
      "LogisticRegression: ROC AUC = 0.903\n",
      "\n",
      "LabelPropagation: ROC AUC = 0.924\n",
      "\n",
      "XGBClassifier: ROC AUC = 0.969\n",
      "\n",
      "CatBoostClassifier: ROC AUC = 0.998\n"
     ]
    }
   ],
   "source": [
    "# We are left with the probabilities of the positive class (the probability of 1)\n",
    "\n",
    "lrc_probs = lrc_search.predict_proba(x_train)\n",
    "lrc_probs = lrc_probs[:, 1]\n",
    "lpc_probs = lp_search.predict_proba(x_train)\n",
    "lpc_probs = lpc_probs[:, 1]\n",
    "xgbc_probs = xgbc_search.predict_proba(x_train)\n",
    "xgbc_probs = xgbc_probs[:, 1]\n",
    "cbc_probs = cbc_search.predict_proba(x_train)\n",
    "cbc_probs = cbc_probs[:, 1]\n",
    "\n",
    "# We generate an untrained classifier, which will assign 0 to everything\n",
    "\n",
    "ns_probs = [0 for _ in range(len(y_train))]\n",
    "\n",
    "# We calculate the AUC\n",
    "\n",
    "ns_auc = roc_auc_score(y_train, ns_probs)\n",
    "lrc_auc = roc_auc_score(y_train, lrc_probs)\n",
    "lpc_auc = roc_auc_score(y_train, lpc_probs)\n",
    "xgbc_auc = roc_auc_score(y_train, xgbc_probs)\n",
    "cbc_auc = roc_auc_score(y_train, cbc_probs)\n",
    "\n",
    "# We print on screen\n",
    "\n",
    "print('\\nUntrained model: ROC AUC = %.3f' % (ns_auc))\n",
    "print('\\nLogisticRegression: ROC AUC = %.3f' % (lrc_auc))\n",
    "print('\\nLabelPropagation: ROC AUC = %.3f' % (lpc_auc))\n",
    "print('\\nXGBClassifier: ROC AUC = %.3f' % (xgbc_auc))\n",
    "print('\\nCatBoostClassifier: ROC AUC = %.3f' % (cbc_auc))"
   ]
  },
  {
   "cell_type": "code",
   "execution_count": 44,
   "id": "05002433",
   "metadata": {
    "execution": {
     "iopub.execute_input": "2025-04-01T00:16:46.422894Z",
     "iopub.status.busy": "2025-04-01T00:16:46.422551Z",
     "iopub.status.idle": "2025-04-01T00:16:46.662472Z",
     "shell.execute_reply": "2025-04-01T00:16:46.661392Z"
    },
    "papermill": {
     "duration": 0.265428,
     "end_time": "2025-04-01T00:16:46.664440",
     "exception": false,
     "start_time": "2025-04-01T00:16:46.399012",
     "status": "completed"
    },
    "tags": []
   },
   "outputs": [
    {
     "data": {
      "image/png": "[encoded data removed]",
      "text/plain": [
       "<Figure size 640x480 with 1 Axes>"
      ]
     },
     "metadata": {},
     "output_type": "display_data"
    }
   ],
   "source": [
    "# We calculate the ROC curves\n",
    "\n",
    "ns_fpr, ns_tpr, _ = roc_curve(y_train, ns_probs)\n",
    "lrc_fpr, lrc_tpr, _ = roc_curve(y_train, lrc_probs)\n",
    "lpc_fpr, lpc_tpr, _ = roc_curve(y_train, lpc_probs)\n",
    "xgbc_fpr, xgbc_tpr, _ = roc_curve(y_train, xgbc_probs)\n",
    "cbc_fpr, cbc_tpr, _ = roc_curve(y_train, cbc_probs)\n",
    "\n",
    "# We plot the ROC curve\n",
    "\n",
    "plt.plot(\n",
    "    ns_fpr, ns_tpr, linestyle=\"--\", color=\"r\", label=\"Untrained model\"\n",
    ")\n",
    "plt.plot(\n",
    "    lrc_fpr, lrc_tpr, marker=\".\", color=\"b\", label=\"LogisticRegression\"\n",
    ")\n",
    "plt.plot(\n",
    "    lpc_fpr, lpc_tpr, marker=\".\", color=\"k\", label=\"LabelPropagation\"\n",
    ")\n",
    "plt.plot(\n",
    "    xgbc_fpr, xgbc_tpr, marker=\".\", color=\"g\", label=\"XGBClassifier\"\n",
    ")\n",
    "plt.plot(\n",
    "    cbc_fpr, cbc_tpr, marker=\".\", color=\"m\", label=\"CatBoostClassifier\"\n",
    ")\n",
    "\n",
    "# We customize the graph\n",
    "\n",
    "plt.ylabel('True Positive Rate')\n",
    "plt.xlabel('False Positive Rate')\n",
    "plt.legend()\n",
    "plt.show()"
   ]
  },
  {
   "cell_type": "markdown",
   "id": "3ef44bad",
   "metadata": {
    "papermill": {
     "duration": 0.023854,
     "end_time": "2025-04-01T00:16:46.713379",
     "exception": false,
     "start_time": "2025-04-01T00:16:46.689525",
     "status": "completed"
    },
    "tags": []
   },
   "source": [
    "# Modeling"
   ]
  },
  {
   "cell_type": "code",
   "execution_count": 45,
   "id": "5f9b4dae",
   "metadata": {
    "execution": {
     "iopub.execute_input": "2025-04-01T00:16:46.763195Z",
     "iopub.status.busy": "2025-04-01T00:16:46.762778Z",
     "iopub.status.idle": "2025-04-01T00:16:46.767195Z",
     "shell.execute_reply": "2025-04-01T00:16:46.766156Z"
    },
    "papermill": {
     "duration": 0.031333,
     "end_time": "2025-04-01T00:16:46.768744",
     "exception": false,
     "start_time": "2025-04-01T00:16:46.737411",
     "status": "completed"
    },
    "tags": []
   },
   "outputs": [],
   "source": [
    "# Create the StratifiedKFold object with 10 divisions (k=10)\n",
    "\n",
    "s_kfold = StratifiedKFold(n_splits=10, shuffle=True, random_state=42)"
   ]
  },
  {
   "cell_type": "code",
   "execution_count": 46,
   "id": "c9bbda98",
   "metadata": {
    "execution": {
     "iopub.execute_input": "2025-04-01T00:16:46.817854Z",
     "iopub.status.busy": "2025-04-01T00:16:46.817529Z",
     "iopub.status.idle": "2025-04-01T00:16:46.823004Z",
     "shell.execute_reply": "2025-04-01T00:16:46.821892Z"
    },
    "papermill": {
     "duration": 0.032125,
     "end_time": "2025-04-01T00:16:46.824802",
     "exception": false,
     "start_time": "2025-04-01T00:16:46.792677",
     "status": "completed"
    },
    "tags": []
   },
   "outputs": [
    {
     "name": "stdout",
     "output_type": "stream",
     "text": [
      "[[   0    1]\n",
      " [ 421 1331]]\n"
     ]
    }
   ],
   "source": [
    "# Original Values\n",
    "\n",
    "original_values = np.asarray(np.unique(y_train, return_counts=True))\n",
    "\n",
    "print(original_values)"
   ]
  },
  {
   "cell_type": "code",
   "execution_count": 47,
   "id": "37b13cd0",
   "metadata": {
    "execution": {
     "iopub.execute_input": "2025-04-01T00:16:46.875321Z",
     "iopub.status.busy": "2025-04-01T00:16:46.874930Z",
     "iopub.status.idle": "2025-04-01T00:16:46.880939Z",
     "shell.execute_reply": "2025-04-01T00:16:46.879873Z"
    },
    "papermill": {
     "duration": 0.032992,
     "end_time": "2025-04-01T00:16:46.882805",
     "exception": false,
     "start_time": "2025-04-01T00:16:46.849813",
     "status": "completed"
    },
    "tags": []
   },
   "outputs": [
    {
     "data": {
      "text/plain": [
       "'\\n# Aplicamos SMOTE en el conjunto de entrenamiento\\n\\nsmote = SMOTE(k_neighbors=5, random_state=42)\\n\\nx_train_balance, y_train_balance = smote.fit_resample(x_train, y_train)\\n\\n# Comprobamos que las clases estan balabceadas\\n\\nvalues_counts_smote = np.asarray(np.unique(y_train_balance, return_counts=True))\\n\\nprint(values_counts_smote)\\n'"
      ]
     },
     "execution_count": 47,
     "metadata": {},
     "output_type": "execute_result"
    }
   ],
   "source": [
    "'''\n",
    "# Aplicamos SMOTE en el conjunto de entrenamiento\n",
    "\n",
    "smote = SMOTE(k_neighbors=5, random_state=42)\n",
    "\n",
    "x_train_balance, y_train_balance = smote.fit_resample(x_train, y_train)\n",
    "\n",
    "# Comprobamos que las clases estan balabceadas\n",
    "\n",
    "values_counts_smote = np.asarray(np.unique(y_train_balance, return_counts=True))\n",
    "\n",
    "print(values_counts_smote)\n",
    "'''"
   ]
  },
  {
   "cell_type": "code",
   "execution_count": 48,
   "id": "51f7296f",
   "metadata": {
    "execution": {
     "iopub.execute_input": "2025-04-01T00:16:46.933015Z",
     "iopub.status.busy": "2025-04-01T00:16:46.932678Z",
     "iopub.status.idle": "2025-04-01T00:16:46.938503Z",
     "shell.execute_reply": "2025-04-01T00:16:46.937392Z"
    },
    "papermill": {
     "duration": 0.032779,
     "end_time": "2025-04-01T00:16:46.940142",
     "exception": false,
     "start_time": "2025-04-01T00:16:46.907363",
     "status": "completed"
    },
    "tags": []
   },
   "outputs": [
    {
     "data": {
      "text/plain": [
       "'\\n# Aplicamos RandomOverSampler\\n\\nros = RandomOverSampler(random_state=42)\\n\\nx_train_balance, y_train_balance = ros.fit_resample(x_train, y_train)\\n\\n# Comprobamos que las clases estan balabceadas\\n\\nvalues_counts_ros = np.asarray(np.unique(y_train_balance, return_counts=True))\\n\\nprint(values_counts_ros)\\n'"
      ]
     },
     "execution_count": 48,
     "metadata": {},
     "output_type": "execute_result"
    }
   ],
   "source": [
    "'''\n",
    "# Aplicamos RandomOverSampler\n",
    "\n",
    "ros = RandomOverSampler(random_state=42)\n",
    "\n",
    "x_train_balance, y_train_balance = ros.fit_resample(x_train, y_train)\n",
    "\n",
    "# Comprobamos que las clases estan balabceadas\n",
    "\n",
    "values_counts_ros = np.asarray(np.unique(y_train_balance, return_counts=True))\n",
    "\n",
    "print(values_counts_ros)\n",
    "'''"
   ]
  },
  {
   "cell_type": "markdown",
   "id": "eb4fd574",
   "metadata": {
    "papermill": {
     "duration": 0.023849,
     "end_time": "2025-04-01T00:16:46.988348",
     "exception": false,
     "start_time": "2025-04-01T00:16:46.964499",
     "status": "completed"
    },
    "tags": []
   },
   "source": [
    "## XGBClassifier"
   ]
  },
  {
   "cell_type": "code",
   "execution_count": 49,
   "id": "065b7fe1",
   "metadata": {
    "execution": {
     "iopub.execute_input": "2025-04-01T00:16:47.038196Z",
     "iopub.status.busy": "2025-04-01T00:16:47.037803Z",
     "iopub.status.idle": "2025-04-01T00:16:47.042005Z",
     "shell.execute_reply": "2025-04-01T00:16:47.040952Z"
    },
    "papermill": {
     "duration": 0.031291,
     "end_time": "2025-04-01T00:16:47.043902",
     "exception": false,
     "start_time": "2025-04-01T00:16:47.012611",
     "status": "completed"
    },
    "tags": []
   },
   "outputs": [],
   "source": [
    "# We create the model instance\n",
    "\n",
    "xgbc = xgb.XGBClassifier()"
   ]
  },
  {
   "cell_type": "markdown",
   "id": "c878b187",
   "metadata": {
    "papermill": {
     "duration": 0.024481,
     "end_time": "2025-04-01T00:16:47.094370",
     "exception": false,
     "start_time": "2025-04-01T00:16:47.069889",
     "status": "completed"
    },
    "tags": []
   },
   "source": [
    "xgbc_hyperparameters = {\n",
    "\n",
    "    \"n_estimators\": [100, 150, 200, 250, 300],\n",
    "    \"max_depth\" : [3, 4, 6, 8, 10],\n",
    "    \"gamma\" : [0, 1, 2, 3, 4, 5],\n",
    "    \"min_child_weight\" : [0, 1, 2, 3, 4],\n",
    "    \"subsample\" : [0.5, 0.6, 0.7, 0.8, 0.9, 1],\n",
    "    \"scale_pos_weight\" : [0, 1, 2, 3, 4, 5]\n",
    "}"
   ]
  },
  {
   "cell_type": "code",
   "execution_count": 50,
   "id": "1f7a795b",
   "metadata": {
    "execution": {
     "iopub.execute_input": "2025-04-01T00:16:47.144445Z",
     "iopub.status.busy": "2025-04-01T00:16:47.144045Z",
     "iopub.status.idle": "2025-04-01T00:16:48.310426Z",
     "shell.execute_reply": "2025-04-01T00:16:48.309593Z"
    },
    "papermill": {
     "duration": 1.194401,
     "end_time": "2025-04-01T00:16:48.313038",
     "exception": false,
     "start_time": "2025-04-01T00:16:47.118637",
     "status": "completed"
    },
    "tags": []
   },
   "outputs": [
    {
     "name": "stdout",
     "output_type": "stream",
     "text": [
      "Parametros: {'gamma': 4, 'max_depth': 3, 'min_child_weight': 4, 'n_estimators': 250, 'scale_pos_weight': 2, 'subsample': 0.6}\n",
      "Puntaje: 0.8550357142857143\n"
     ]
    }
   ],
   "source": [
    "# We establish the parameters to test\n",
    "\n",
    "xgbc_hyperparameters = {\n",
    "    \"n_estimators\": [250],\n",
    "    \"max_depth\" : [3],\n",
    "    \"gamma\" : [4],\n",
    "    \"min_child_weight\" : [4],\n",
    "    \"subsample\" : [0.6],\n",
    "    \"scale_pos_weight\" : [2]\n",
    "}\n",
    "\n",
    "# We tested a new grid with StratifiedKFold\n",
    "\n",
    "xgbc_grid_skf = GridSearchCV(\n",
    "    xgbc,\n",
    "    xgbc_hyperparameters,\n",
    "    cv=s_kfold,\n",
    "    scoring=\"accuracy\",\n",
    "    return_train_score=True\n",
    ")\n",
    "\n",
    "xgbc_search_skf = xgbc_grid_skf.fit(x_train, y_train)\n",
    "\n",
    "print(\n",
    "    f\"Parametros: {xgbc_search_skf.best_params_}\\nPuntaje: {xgbc_search_skf.best_score_}\"\n",
    ")"
   ]
  },
  {
   "cell_type": "markdown",
   "id": "ae4065c0",
   "metadata": {
    "papermill": {
     "duration": 0.024418,
     "end_time": "2025-04-01T00:16:48.362790",
     "exception": false,
     "start_time": "2025-04-01T00:16:48.338372",
     "status": "completed"
    },
    "tags": []
   },
   "source": [
    "Parametros: {'n_estimators': 250} /\n",
    "Puntaje: 0.8527694805194805\n",
    "\n",
    "Train - Accuracy score: 1.0 /\n",
    "Test - Accuracy score: 0.8242009132420092\n",
    "\n",
    "Train - F1-Score: 1.0 /\n",
    "Test - F1-Score: 0.7596408081815913\n",
    "\n",
    "XGBClassifier: ROC AUC = 1.000\n",
    "\n",
    "Parametros: {'gamma': 4} /\n",
    "Puntaje: 0.874448051948052\n",
    "\n",
    "Train - Accuracy score: 0.9006849315068494 /\n",
    "Test - Accuracy score: 0.8493150684931506\n",
    "\n",
    "Train - F1-Score: 0.8600567029996768 /\n",
    "Test - F1-Score: 0.7959454499251772\n",
    "\n",
    "Parametros: {'max_depth': 3} /\n",
    "Puntaje: 0.8618961038961039\n",
    "\n",
    "Train - Accuracy score: 0.946917808219178 /\n",
    "Test - Accuracy score: 0.8333333333333334\n",
    "\n",
    "Train - F1-Score: 0.9250074216583553 /\n",
    "Test - F1-Score: 0.7777777777777777\n",
    "\n",
    "XGBClassifier: ROC AUC = 0.986\n",
    "\n",
    "Parametros: {'min_child_weight': 4} /\n",
    "Puntaje: 0.8590422077922077\n",
    "\n",
    "Train - Accuracy score: 0.988013698630137 /\n",
    "Test - Accuracy score: 0.8287671232876712\n",
    "\n",
    "Train - F1-Score: 0.9833533543723912 /\n",
    "Test - F1-Score: 0.7673825759989804\n",
    "\n",
    "XGBClassifier: ROC AUC = 0.999\n",
    "\n",
    "Parametros: {'subsample': 0.6} /\n",
    "Puntaje: 0.8578928571428571\n",
    "\n",
    "Train - Accuracy score: 0.9988584474885844 /\n",
    "Test - Accuracy score: 0.8127853881278538\n",
    "\n",
    "Train - F1-Score: 0.9984341484341485 /\n",
    "Test - F1-Score: 0.7480639730639731\n",
    "\n",
    "XGBClassifier: ROC AUC = 1.000\n",
    "\n",
    "suma = sum(negative instances) / sum(positive instances)\n",
    "\n",
    "Parametros: {'scale_pos_weight': 2} /\n",
    "Puntaje: 0.8527597402597402\n",
    "\n",
    "Train - Accuracy score: 0.9988584474885844 /\n",
    "Test - Accuracy score: 0.8242009132420092\n",
    "\n",
    "Train - F1-Score: 0.9984341484341485 /\n",
    "Test - F1-Score: 0.7548180727708917\n",
    "\n",
    "XGBClassifier: ROC AUC = 1.000"
   ]
  },
  {
   "cell_type": "markdown",
   "id": "fa883064",
   "metadata": {
    "papermill": {
     "duration": 0.024074,
     "end_time": "2025-04-01T00:16:48.411474",
     "exception": false,
     "start_time": "2025-04-01T00:16:48.387400",
     "status": "completed"
    },
    "tags": []
   },
   "source": [
    "- RandomOverSampler\n",
    "\n",
    "Parametros: {'n_estimators': 250}\n",
    "Puntaje: 0.9470403536932219\n",
    "\n",
    "Parametros: {'max_depth': 10}\n",
    "Puntaje: 0.9466672298724339\n",
    "\n",
    "Parametros: {'gamma': 0}\n",
    "Puntaje: 0.9417856438849934\n",
    "\n",
    "Parametros: {'min_child_weight': 2}\n",
    "Puntaje: 0.9417870518994114\n",
    "\n",
    "Parametros: {'subsample': 0.8}\n",
    "Puntaje: 0.9459097181155134\n",
    "\n",
    "Parametros: {'scale_pos_weight': 4}\n",
    "Puntaje: 0.9507997521894624"
   ]
  },
  {
   "cell_type": "code",
   "execution_count": 51,
   "id": "7f198264",
   "metadata": {
    "execution": {
     "iopub.execute_input": "2025-04-01T00:16:48.462286Z",
     "iopub.status.busy": "2025-04-01T00:16:48.461857Z",
     "iopub.status.idle": "2025-04-01T00:16:48.489299Z",
     "shell.execute_reply": "2025-04-01T00:16:48.487945Z"
    },
    "papermill": {
     "duration": 0.0545,
     "end_time": "2025-04-01T00:16:48.490989",
     "exception": false,
     "start_time": "2025-04-01T00:16:48.436489",
     "status": "completed"
    },
    "tags": []
   },
   "outputs": [
    {
     "name": "stdout",
     "output_type": "stream",
     "text": [
      "Train - Accuracy score: 0.9143835616438356\n",
      "Test - Accuracy score: 0.8378995433789954\n",
      "\n",
      "Train - F1-Score: 0.868350392343884\n",
      "Test - F1-Score: 0.7675141855371067\n"
     ]
    }
   ],
   "source": [
    "# We evaluate the accuracy and the f1-score\n",
    "\n",
    "evaluator(xgbc_search_skf, x_train, y_train, x_val, y_val)"
   ]
  },
  {
   "cell_type": "code",
   "execution_count": 52,
   "id": "3654539d",
   "metadata": {
    "execution": {
     "iopub.execute_input": "2025-04-01T00:16:48.541157Z",
     "iopub.status.busy": "2025-04-01T00:16:48.540780Z",
     "iopub.status.idle": "2025-04-01T00:16:48.761575Z",
     "shell.execute_reply": "2025-04-01T00:16:48.760187Z"
    },
    "papermill": {
     "duration": 0.247663,
     "end_time": "2025-04-01T00:16:48.763260",
     "exception": false,
     "start_time": "2025-04-01T00:16:48.515597",
     "status": "completed"
    },
    "tags": []
   },
   "outputs": [
    {
     "data": {
      "image/png": "[encoded data removed]",
      "text/plain": [
       "<Figure size 600x400 with 2 Axes>"
      ]
     },
     "metadata": {},
     "output_type": "display_data"
    },
    {
     "name": "stdout",
     "output_type": "stream",
     "text": [
      "\n",
      "\n",
      "              precision    recall  f1-score   support\n",
      "\n",
      "     No Rain       0.81      0.53      0.64       119\n",
      "        Rain       0.84      0.95      0.90       319\n",
      "\n",
      "    accuracy                           0.84       438\n",
      "   macro avg       0.83      0.74      0.77       438\n",
      "weighted avg       0.83      0.84      0.83       438\n",
      "\n"
     ]
    }
   ],
   "source": [
    "# We graph the confusion matrix\n",
    "\n",
    "matrix_evaluator(\n",
    "    xgbc_search_skf, \n",
    "    x_val, \n",
    "    y_val, \n",
    "    [\"No Rain\", \"Rain\"], \n",
    "    \"Greens\"\n",
    ")"
   ]
  },
  {
   "cell_type": "code",
   "execution_count": 53,
   "id": "d4e11933",
   "metadata": {
    "execution": {
     "iopub.execute_input": "2025-04-01T00:16:48.815299Z",
     "iopub.status.busy": "2025-04-01T00:16:48.814810Z",
     "iopub.status.idle": "2025-04-01T00:16:48.826968Z",
     "shell.execute_reply": "2025-04-01T00:16:48.826107Z"
    },
    "papermill": {
     "duration": 0.040698,
     "end_time": "2025-04-01T00:16:48.829085",
     "exception": false,
     "start_time": "2025-04-01T00:16:48.788387",
     "status": "completed"
    },
    "tags": []
   },
   "outputs": [
    {
     "name": "stdout",
     "output_type": "stream",
     "text": [
      "\n",
      "XGBClassifier: ROC AUC = 0.957\n"
     ]
    }
   ],
   "source": [
    "# We calculate the AUC\n",
    "\n",
    "xgbc_probs = xgbc_search_skf.predict_proba(x_train)\n",
    "xgbc_probs = xgbc_probs[:, 1]\n",
    "xgbc_auc = roc_auc_score(y_train, xgbc_probs)\n",
    "print('\\nXGBClassifier: ROC AUC = %.3f' % (xgbc_auc))"
   ]
  },
  {
   "cell_type": "code",
   "execution_count": 54,
   "id": "78813a52",
   "metadata": {
    "execution": {
     "iopub.execute_input": "2025-04-01T00:16:48.884133Z",
     "iopub.status.busy": "2025-04-01T00:16:48.883744Z",
     "iopub.status.idle": "2025-04-01T00:16:48.982325Z",
     "shell.execute_reply": "2025-04-01T00:16:48.980821Z"
    },
    "papermill": {
     "duration": 0.127962,
     "end_time": "2025-04-01T00:16:48.984208",
     "exception": false,
     "start_time": "2025-04-01T00:16:48.856246",
     "status": "completed"
    },
    "tags": []
   },
   "outputs": [
    {
     "data": {
      "text/html": [
       "<style>#sk-container-id-4 {color: black;background-color: white;}#sk-container-id-4 pre{padding: 0;}#sk-container-id-4 div.sk-toggleable {background-color: white;}#sk-container-id-4 label.sk-toggleable__label {cursor: pointer;display: block;width: 100%;margin-bottom: 0;padding: 0.3em;box-sizing: border-box;text-align: center;}#sk-container-id-4 label.sk-toggleable__label-arrow:before {content: \"▸\";float: left;margin-right: 0.25em;color: #696969;}#sk-container-id-4 label.sk-toggleable__label-arrow:hover:before {color: black;}#sk-container-id-4 div.sk-estimator:hover label.sk-toggleable__label-arrow:before {color: black;}#sk-container-id-4 div.sk-toggleable__content {max-height: 0;max-width: 0;overflow: hidden;text-align: left;background-color: #f0f8ff;}#sk-container-id-4 div.sk-toggleable__content pre {margin: 0.2em;color: black;border-radius: 0.25em;background-color: #f0f8ff;}#sk-container-id-4 input.sk-toggleable__control:checked~div.sk-toggleable__content {max-height: 200px;max-width: 100%;overflow: auto;}#sk-container-id-4 input.sk-toggleable__control:checked~label.sk-toggleable__label-arrow:before {content: \"▾\";}#sk-container-id-4 div.sk-estimator input.sk-toggleable__control:checked~label.sk-toggleable__label {background-color: #d4ebff;}#sk-container-id-4 div.sk-label input.sk-toggleable__control:checked~label.sk-toggleable__label {background-color: #d4ebff;}#sk-container-id-4 input.sk-hidden--visually {border: 0;clip: rect(1px 1px 1px 1px);clip: rect(1px, 1px, 1px, 1px);height: 1px;margin: -1px;overflow: hidden;padding: 0;position: absolute;width: 1px;}#sk-container-id-4 div.sk-estimator {font-family: monospace;background-color: #f0f8ff;border: 1px dotted black;border-radius: 0.25em;box-sizing: border-box;margin-bottom: 0.5em;}#sk-container-id-4 div.sk-estimator:hover {background-color: #d4ebff;}#sk-container-id-4 div.sk-parallel-item::after {content: \"\";width: 100%;border-bottom: 1px solid gray;flex-grow: 1;}#sk-container-id-4 div.sk-label:hover label.sk-toggleable__label {background-color: #d4ebff;}#sk-container-id-4 div.sk-serial::before {content: \"\";position: absolute;border-left: 1px solid gray;box-sizing: border-box;top: 0;bottom: 0;left: 50%;z-index: 0;}#sk-container-id-4 div.sk-serial {display: flex;flex-direction: column;align-items: center;background-color: white;padding-right: 0.2em;padding-left: 0.2em;position: relative;}#sk-container-id-4 div.sk-item {position: relative;z-index: 1;}#sk-container-id-4 div.sk-parallel {display: flex;align-items: stretch;justify-content: center;background-color: white;position: relative;}#sk-container-id-4 div.sk-item::before, #sk-container-id-4 div.sk-parallel-item::before {content: \"\";position: absolute;border-left: 1px solid gray;box-sizing: border-box;top: 0;bottom: 0;left: 50%;z-index: -1;}#sk-container-id-4 div.sk-parallel-item {display: flex;flex-direction: column;z-index: 1;position: relative;background-color: white;}#sk-container-id-4 div.sk-parallel-item:first-child::after {align-self: flex-end;width: 50%;}#sk-container-id-4 div.sk-parallel-item:last-child::after {align-self: flex-start;width: 50%;}#sk-container-id-4 div.sk-parallel-item:only-child::after {width: 0;}#sk-container-id-4 div.sk-dashed-wrapped {border: 1px dashed gray;margin: 0 0.4em 0.5em 0.4em;box-sizing: border-box;padding-bottom: 0.4em;background-color: white;}#sk-container-id-4 div.sk-label label {font-family: monospace;font-weight: bold;display: inline-block;line-height: 1.2em;}#sk-container-id-4 div.sk-label-container {text-align: center;}#sk-container-id-4 div.sk-container {/* jupyter's `normalize.less` sets `[hidden] { display: none; }` but bootstrap.min.css set `[hidden] { display: none !important; }` so we also need the `!important` here to be able to override the default hidden behavior on the sphinx rendered scikit-learn.org. See: https://github.com/scikit-learn/scikit-learn/issues/21755 */display: inline-block !important;position: relative;}#sk-container-id-4 div.sk-text-repr-fallback {display: none;}</style><div id=\"sk-container-id-4\" class=\"sk-top-container\"><div class=\"sk-text-repr-fallback\"><pre>XGBClassifier(base_score=None, booster=None, callbacks=None,\n",
       "              colsample_bylevel=None, colsample_bynode=None,\n",
       "              colsample_bytree=None, device=None, early_stopping_rounds=None,\n",
       "              enable_categorical=False, eval_metric=None, feature_types=None,\n",
       "              gamma=4, grow_policy=None, importance_type=None,\n",
       "              interaction_constraints=None, learning_rate=None, max_bin=None,\n",
       "              max_cat_threshold=None, max_cat_to_onehot=None,\n",
       "              max_delta_step=None, max_depth=3, max_leaves=None,\n",
       "              min_child_weight=4, missing=nan, monotone_constraints=None,\n",
       "              multi_strategy=None, n_estimators=250, n_jobs=None,\n",
       "              num_parallel_tree=None, random_state=None, ...)</pre><b>In a Jupyter environment, please rerun this cell to show the HTML representation or trust the notebook. <br />On GitHub, the HTML representation is unable to render, please try loading this page with nbviewer.org.</b></div><div class=\"sk-container\" hidden><div class=\"sk-item\"><div class=\"sk-estimator sk-toggleable\"><input class=\"sk-toggleable__control sk-hidden--visually\" id=\"sk-estimator-id-4\" type=\"checkbox\" checked><label for=\"sk-estimator-id-4\" class=\"sk-toggleable__label sk-toggleable__label-arrow\">XGBClassifier</label><div class=\"sk-toggleable__content\"><pre>XGBClassifier(base_score=None, booster=None, callbacks=None,\n",
       "              colsample_bylevel=None, colsample_bynode=None,\n",
       "              colsample_bytree=None, device=None, early_stopping_rounds=None,\n",
       "              enable_categorical=False, eval_metric=None, feature_types=None,\n",
       "              gamma=4, grow_policy=None, importance_type=None,\n",
       "              interaction_constraints=None, learning_rate=None, max_bin=None,\n",
       "              max_cat_threshold=None, max_cat_to_onehot=None,\n",
       "              max_delta_step=None, max_depth=3, max_leaves=None,\n",
       "              min_child_weight=4, missing=nan, monotone_constraints=None,\n",
       "              multi_strategy=None, n_estimators=250, n_jobs=None,\n",
       "              num_parallel_tree=None, random_state=None, ...)</pre></div></div></div></div></div>"
      ],
      "text/plain": [
       "XGBClassifier(base_score=None, booster=None, callbacks=None,\n",
       "              colsample_bylevel=None, colsample_bynode=None,\n",
       "              colsample_bytree=None, device=None, early_stopping_rounds=None,\n",
       "              enable_categorical=False, eval_metric=None, feature_types=None,\n",
       "              gamma=4, grow_policy=None, importance_type=None,\n",
       "              interaction_constraints=None, learning_rate=None, max_bin=None,\n",
       "              max_cat_threshold=None, max_cat_to_onehot=None,\n",
       "              max_delta_step=None, max_depth=3, max_leaves=None,\n",
       "              min_child_weight=4, missing=nan, monotone_constraints=None,\n",
       "              multi_strategy=None, n_estimators=250, n_jobs=None,\n",
       "              num_parallel_tree=None, random_state=None, ...)"
      ]
     },
     "execution_count": 54,
     "metadata": {},
     "output_type": "execute_result"
    }
   ],
   "source": [
    "# We fit the best estimator\n",
    "\n",
    "xgbc_result = xgbc_search_skf.best_estimator_  \n",
    "xgbc_result.fit(x_train, y_train)"
   ]
  },
  {
   "cell_type": "markdown",
   "id": "480cef52",
   "metadata": {
    "papermill": {
     "duration": 0.025057,
     "end_time": "2025-04-01T00:16:49.035641",
     "exception": false,
     "start_time": "2025-04-01T00:16:49.010584",
     "status": "completed"
    },
    "tags": []
   },
   "source": [
    "## CatBoostClassifier"
   ]
  },
  {
   "cell_type": "code",
   "execution_count": 55,
   "id": "47e4eade",
   "metadata": {
    "execution": {
     "iopub.execute_input": "2025-04-01T00:16:49.087665Z",
     "iopub.status.busy": "2025-04-01T00:16:49.087314Z",
     "iopub.status.idle": "2025-04-01T00:16:49.091755Z",
     "shell.execute_reply": "2025-04-01T00:16:49.090630Z"
    },
    "papermill": {
     "duration": 0.032482,
     "end_time": "2025-04-01T00:16:49.093519",
     "exception": false,
     "start_time": "2025-04-01T00:16:49.061037",
     "status": "completed"
    },
    "tags": []
   },
   "outputs": [],
   "source": [
    "# We create the model instance\n",
    "\n",
    "cbc = CatBoostClassifier(silent=True)"
   ]
  },
  {
   "cell_type": "markdown",
   "id": "77e62edd",
   "metadata": {
    "papermill": {
     "duration": 0.026586,
     "end_time": "2025-04-01T00:16:49.145997",
     "exception": false,
     "start_time": "2025-04-01T00:16:49.119411",
     "status": "completed"
    },
    "tags": []
   },
   "source": [
    "    cbc_hyperparameters = {\n",
    "\n",
    "        \"depth\": [4, 6, 8, 10],\n",
    "\n",
    "        \"learning_rate\": [0.08, 0.09, 0.1, 0.2],\n",
    "\n",
    "        \"iterations\": [500, 1000],\n",
    "\n",
    "        \"l2_leaf_reg\": [1, 3, 6, 9],\n",
    "\n",
    "        \"bagging_temperature\": [0.07, 0.08, 0.09, 0.1]\n",
    "    }"
   ]
  },
  {
   "cell_type": "code",
   "execution_count": 56,
   "id": "82ab033b",
   "metadata": {
    "execution": {
     "iopub.execute_input": "2025-04-01T00:16:49.199611Z",
     "iopub.status.busy": "2025-04-01T00:16:49.199245Z",
     "iopub.status.idle": "2025-04-01T00:17:02.905290Z",
     "shell.execute_reply": "2025-04-01T00:17:02.903992Z"
    },
    "papermill": {
     "duration": 13.735259,
     "end_time": "2025-04-01T00:17:02.906995",
     "exception": false,
     "start_time": "2025-04-01T00:16:49.171736",
     "status": "completed"
    },
    "tags": []
   },
   "outputs": [
    {
     "name": "stdout",
     "output_type": "stream",
     "text": [
      "Parametros: {'bagging_temperature': 0.07, 'depth': 4, 'iterations': 1000, 'l2_leaf_reg': 9, 'learning_rate': 0.09}\n",
      "Puntaje: 0.8607532467532467\n"
     ]
    }
   ],
   "source": [
    "# We establish the parameters to test\n",
    "\n",
    "cbc_hyperparameters = {\n",
    "    \"depth\": [4],\n",
    "    \"learning_rate\": [0.09],\n",
    "    \"iterations\": [1000],\n",
    "    \"l2_leaf_reg\": [9],\n",
    "    \"bagging_temperature\": [0.07]\n",
    "}\n",
    "\n",
    "cbc_grid_skf = GridSearchCV(\n",
    "    cbc,\n",
    "    cbc_hyperparameters,\n",
    "    cv=s_kfold,\n",
    "    scoring=\"accuracy\",\n",
    "    return_train_score=True\n",
    ")\n",
    "\n",
    "cbc_search_skf = cbc_grid_skf.fit(x_train, y_train)\n",
    "\n",
    "print(\n",
    "    f\"Parametros: {cbc_search_skf.best_params_}\\nPuntaje: {cbc_search_skf.best_score_}\"\n",
    ")"
   ]
  },
  {
   "cell_type": "markdown",
   "id": "d50033c6",
   "metadata": {
    "papermill": {
     "duration": 0.025092,
     "end_time": "2025-04-01T00:17:02.957858",
     "exception": false,
     "start_time": "2025-04-01T00:17:02.932766",
     "status": "completed"
    },
    "tags": []
   },
   "source": [
    "Parametros: {'depth': 4} / \n",
    "Puntaje: 0.8721558441558441\n",
    "\n",
    "Parametros: {'learning_rate': 0.1} / \n",
    "Puntaje: 0.8618993506493506\n",
    "\n",
    "Parametros: {'l2_leaf_reg': 6} / \n",
    "Puntaje: 0.8681688311688311\n",
    "\n",
    "Parametros: {'bagging_temperature': 0.07} /\n",
    "Puntaje: 0.8681590909090909"
   ]
  },
  {
   "cell_type": "code",
   "execution_count": 57,
   "id": "2fbaf277",
   "metadata": {
    "execution": {
     "iopub.execute_input": "2025-04-01T00:17:03.009715Z",
     "iopub.status.busy": "2025-04-01T00:17:03.009309Z",
     "iopub.status.idle": "2025-04-01T00:17:03.032518Z",
     "shell.execute_reply": "2025-04-01T00:17:03.030920Z"
    },
    "papermill": {
     "duration": 0.051329,
     "end_time": "2025-04-01T00:17:03.034334",
     "exception": false,
     "start_time": "2025-04-01T00:17:02.983005",
     "status": "completed"
    },
    "tags": []
   },
   "outputs": [
    {
     "name": "stdout",
     "output_type": "stream",
     "text": [
      "Train - Accuracy score: 0.9834474885844748\n",
      "Test - Accuracy score: 0.8401826484018264\n",
      "\n",
      "Train - F1-Score: 0.9768951098560037\n",
      "Test - F1-Score: 0.779335559649931\n"
     ]
    }
   ],
   "source": [
    "# We evaluate the accuracy and the f1-score\n",
    "\n",
    "evaluator(cbc_search_skf, x_train, y_train, x_val, y_val)"
   ]
  },
  {
   "cell_type": "code",
   "execution_count": 58,
   "id": "4773ae73",
   "metadata": {
    "execution": {
     "iopub.execute_input": "2025-04-01T00:17:03.086529Z",
     "iopub.status.busy": "2025-04-01T00:17:03.086044Z",
     "iopub.status.idle": "2025-04-01T00:17:03.297643Z",
     "shell.execute_reply": "2025-04-01T00:17:03.296176Z"
    },
    "papermill": {
     "duration": 0.239765,
     "end_time": "2025-04-01T00:17:03.299548",
     "exception": false,
     "start_time": "2025-04-01T00:17:03.059783",
     "status": "completed"
    },
    "tags": []
   },
   "outputs": [
    {
     "data": {
      "image/png": "[encoded data removed]",
      "text/plain": [
       "<Figure size 600x400 with 2 Axes>"
      ]
     },
     "metadata": {},
     "output_type": "display_data"
    },
    {
     "name": "stdout",
     "output_type": "stream",
     "text": [
      "\n",
      "\n",
      "              precision    recall  f1-score   support\n",
      "\n",
      "     No Rain       0.78      0.58      0.66       119\n",
      "        Rain       0.86      0.94      0.90       319\n",
      "\n",
      "    accuracy                           0.84       438\n",
      "   macro avg       0.82      0.76      0.78       438\n",
      "weighted avg       0.83      0.84      0.83       438\n",
      "\n"
     ]
    }
   ],
   "source": [
    "# We graph the confusion matrix\n",
    "\n",
    "matrix_evaluator(\n",
    "    cbc_search_skf, \n",
    "    x_val, \n",
    "    y_val, \n",
    "    [\"No Rain\", \"Rain\"], \n",
    "    \"Greens\"\n",
    ")"
   ]
  },
  {
   "cell_type": "code",
   "execution_count": 59,
   "id": "d47f68df",
   "metadata": {
    "execution": {
     "iopub.execute_input": "2025-04-01T00:17:03.353967Z",
     "iopub.status.busy": "2025-04-01T00:17:03.353574Z",
     "iopub.status.idle": "2025-04-01T00:17:03.364783Z",
     "shell.execute_reply": "2025-04-01T00:17:03.363645Z"
    },
    "papermill": {
     "duration": 0.04079,
     "end_time": "2025-04-01T00:17:03.366670",
     "exception": false,
     "start_time": "2025-04-01T00:17:03.325880",
     "status": "completed"
    },
    "tags": []
   },
   "outputs": [
    {
     "name": "stdout",
     "output_type": "stream",
     "text": [
      "\n",
      "CatBoostClassifier: ROC AUC = 0.998\n"
     ]
    }
   ],
   "source": [
    "# We calculate the AUC\n",
    "\n",
    "cbc_probs = cbc_search_skf.predict_proba(x_train)\n",
    "cbc_probs = cbc_probs[:, 1]\n",
    "cbc_auc = roc_auc_score(y_train, cbc_probs)\n",
    "print('\\nCatBoostClassifier: ROC AUC = %.3f' % (cbc_auc))"
   ]
  },
  {
   "cell_type": "code",
   "execution_count": 60,
   "id": "12d32fcc",
   "metadata": {
    "execution": {
     "iopub.execute_input": "2025-04-01T00:17:03.421365Z",
     "iopub.status.busy": "2025-04-01T00:17:03.420929Z",
     "iopub.status.idle": "2025-04-01T00:17:04.739227Z",
     "shell.execute_reply": "2025-04-01T00:17:04.738155Z"
    },
    "papermill": {
     "duration": 1.347653,
     "end_time": "2025-04-01T00:17:04.741280",
     "exception": false,
     "start_time": "2025-04-01T00:17:03.393627",
     "status": "completed"
    },
    "tags": []
   },
   "outputs": [
    {
     "data": {
      "text/plain": [
       "<catboost.core.CatBoostClassifier at 0x784b7110e710>"
      ]
     },
     "execution_count": 60,
     "metadata": {},
     "output_type": "execute_result"
    }
   ],
   "source": [
    "# We fit the best estimator\n",
    "\n",
    "cbc_result = cbc_search_skf.best_estimator_  \n",
    "cbc_result.fit(x_train, y_train)"
   ]
  },
  {
   "cell_type": "markdown",
   "id": "ec09e1b3",
   "metadata": {
    "papermill": {
     "duration": 0.0274,
     "end_time": "2025-04-01T00:17:04.795551",
     "exception": false,
     "start_time": "2025-04-01T00:17:04.768151",
     "status": "completed"
    },
    "tags": []
   },
   "source": [
    "# roc_auc_score and roc_curve"
   ]
  },
  {
   "cell_type": "markdown",
   "id": "f6ba7482",
   "metadata": {
    "papermill": {
     "duration": 0.026653,
     "end_time": "2025-04-01T00:17:04.850328",
     "exception": false,
     "start_time": "2025-04-01T00:17:04.823675",
     "status": "completed"
    },
    "tags": []
   },
   "source": [
    "## XGBClassifier & CatBoostClassifier"
   ]
  },
  {
   "cell_type": "code",
   "execution_count": 61,
   "id": "a9b9cfdc",
   "metadata": {
    "execution": {
     "iopub.execute_input": "2025-04-01T00:17:04.905661Z",
     "iopub.status.busy": "2025-04-01T00:17:04.905311Z",
     "iopub.status.idle": "2025-04-01T00:17:04.929678Z",
     "shell.execute_reply": "2025-04-01T00:17:04.928600Z"
    },
    "papermill": {
     "duration": 0.054216,
     "end_time": "2025-04-01T00:17:04.931484",
     "exception": false,
     "start_time": "2025-04-01T00:17:04.877268",
     "status": "completed"
    },
    "tags": []
   },
   "outputs": [
    {
     "name": "stdout",
     "output_type": "stream",
     "text": [
      "\n",
      "XGBClassifier: ROC AUC = 0.957\n",
      "\n",
      "CatBoostClassifier: ROC AUC = 0.998\n"
     ]
    }
   ],
   "source": [
    "# We are left with the probabilities of the positive class (the probability of 1)\n",
    "\n",
    "xgbc_probs = xgbc_result.predict_proba(x_train)\n",
    "xgbc_probs = xgbc_probs[:, 1]\n",
    "cbc_probs = cbc_result.predict_proba(x_train)\n",
    "cbc_probs = cbc_probs[:, 1]\n",
    "\n",
    "# We generate an untrained classifier, which will assign 0 to everything\n",
    "\n",
    "ns_probs = [0 for _ in range(len(y_train))]\n",
    "\n",
    "# We calculate the AUC\n",
    "\n",
    "ns_auc = roc_auc_score(y_train, ns_probs)\n",
    "xgbc_auc = roc_auc_score(y_train, xgbc_probs)\n",
    "cbc_auc = roc_auc_score(y_train, cbc_probs)\n",
    "\n",
    "# We print on screen\n",
    "\n",
    "print('\\nXGBClassifier: ROC AUC = %.3f' % (xgbc_auc))\n",
    "print('\\nCatBoostClassifier: ROC AUC = %.3f' % (cbc_auc))"
   ]
  },
  {
   "cell_type": "code",
   "execution_count": 62,
   "id": "a4e7f26b",
   "metadata": {
    "execution": {
     "iopub.execute_input": "2025-04-01T00:17:04.985791Z",
     "iopub.status.busy": "2025-04-01T00:17:04.985431Z",
     "iopub.status.idle": "2025-04-01T00:17:05.190968Z",
     "shell.execute_reply": "2025-04-01T00:17:05.189841Z"
    },
    "papermill": {
     "duration": 0.234711,
     "end_time": "2025-04-01T00:17:05.192705",
     "exception": false,
     "start_time": "2025-04-01T00:17:04.957994",
     "status": "completed"
    },
    "tags": []
   },
   "outputs": [
    {
     "data": {
      "image/png": "[encoded data removed]",
      "text/plain": [
       "<Figure size 640x480 with 1 Axes>"
      ]
     },
     "metadata": {},
     "output_type": "display_data"
    }
   ],
   "source": [
    "# We calculate the ROC curves\n",
    "\n",
    "ns_fpr, ns_tpr, _ = roc_curve(y_train, ns_probs)\n",
    "xgbc_fpr, xgbc_tpr, _ = roc_curve(y_train, xgbc_probs)\n",
    "cbc_fpr, cbc_tpr, _ = roc_curve(y_train, cbc_probs)\n",
    "\n",
    "# We plot the ROC curve\n",
    "\n",
    "plt.plot(\n",
    "    ns_fpr, ns_tpr, linestyle=\"--\", color=\"r\", label=\"Untrained model\"\n",
    ")\n",
    "plt.plot(\n",
    "    xgbc_fpr, xgbc_tpr, marker=\".\", color=\"g\", label=\"XGBClassifier\"\n",
    ")\n",
    "plt.plot(\n",
    "    cbc_fpr, cbc_tpr, marker=\".\", color=\"b\", label=\"CatBoostClassifier\"\n",
    ")\n",
    "\n",
    "# We customize the graph\n",
    "\n",
    "plt.ylabel('True Positive Rate')\n",
    "plt.xlabel('False Positive Rate')\n",
    "plt.legend()\n",
    "plt.show()"
   ]
  },
  {
   "cell_type": "markdown",
   "id": "2d3f55d2",
   "metadata": {
    "papermill": {
     "duration": 0.026733,
     "end_time": "2025-04-01T00:17:05.246775",
     "exception": false,
     "start_time": "2025-04-01T00:17:05.220042",
     "status": "completed"
    },
    "tags": []
   },
   "source": [
    "# Test data"
   ]
  },
  {
   "cell_type": "code",
   "execution_count": 63,
   "id": "04d7754c",
   "metadata": {
    "execution": {
     "iopub.execute_input": "2025-04-01T00:17:05.302588Z",
     "iopub.status.busy": "2025-04-01T00:17:05.302091Z",
     "iopub.status.idle": "2025-04-01T00:17:05.321315Z",
     "shell.execute_reply": "2025-04-01T00:17:05.320077Z"
    },
    "papermill": {
     "duration": 0.049318,
     "end_time": "2025-04-01T00:17:05.323221",
     "exception": false,
     "start_time": "2025-04-01T00:17:05.273903",
     "status": "completed"
    },
    "tags": []
   },
   "outputs": [
    {
     "name": "stdout",
     "output_type": "stream",
     "text": [
      "Length: 730\n",
      "Duplicates: 0\n",
      "Shape: (730, 12)\n"
     ]
    }
   ],
   "source": [
    "# We load the test data\n",
    "\n",
    "df_test = pd.read_csv(\"/kaggle/input/playground-series-s5e3/test.csv\")\n",
    "\n",
    "# We check the shape and that no duplicate data is found\n",
    "\n",
    "print(f\"Length: {len(df_test.duplicated())}\")\n",
    "\n",
    "print(f\"Duplicates: {df_test.duplicated().sum()}\")\n",
    "\n",
    "print(f\"Shape: {df_test.shape}\")"
   ]
  },
  {
   "cell_type": "code",
   "execution_count": 64,
   "id": "d6a887fd",
   "metadata": {
    "execution": {
     "iopub.execute_input": "2025-04-01T00:17:05.380291Z",
     "iopub.status.busy": "2025-04-01T00:17:05.379901Z",
     "iopub.status.idle": "2025-04-01T00:17:05.385212Z",
     "shell.execute_reply": "2025-04-01T00:17:05.384124Z"
    },
    "papermill": {
     "duration": 0.036278,
     "end_time": "2025-04-01T00:17:05.386943",
     "exception": false,
     "start_time": "2025-04-01T00:17:05.350665",
     "status": "completed"
    },
    "tags": []
   },
   "outputs": [],
   "source": [
    "# We start by removing the variables that we will not use\n",
    "\n",
    "df_test_new = df_test.drop(columns=[\"id\", \"day\", \"maxtemp\", \"mintemp\", \"winddirection\"])"
   ]
  },
  {
   "cell_type": "code",
   "execution_count": 65,
   "id": "655db82c",
   "metadata": {
    "execution": {
     "iopub.execute_input": "2025-04-01T00:17:05.443335Z",
     "iopub.status.busy": "2025-04-01T00:17:05.442935Z",
     "iopub.status.idle": "2025-04-01T00:17:05.454253Z",
     "shell.execute_reply": "2025-04-01T00:17:05.453136Z"
    },
    "papermill": {
     "duration": 0.041711,
     "end_time": "2025-04-01T00:17:05.456335",
     "exception": false,
     "start_time": "2025-04-01T00:17:05.414624",
     "status": "completed"
    },
    "tags": []
   },
   "outputs": [],
   "source": [
    "# We transform the data\n",
    "\n",
    "num_va_test = rs.fit_transform(df_test_new)\n",
    "\n",
    "rainfall_test = pd.DataFrame(\n",
    "    num_va_test, columns=rs.get_feature_names_out(df_test_new.columns)\n",
    ")"
   ]
  },
  {
   "cell_type": "code",
   "execution_count": 66,
   "id": "fe98d622",
   "metadata": {
    "execution": {
     "iopub.execute_input": "2025-04-01T00:17:05.512547Z",
     "iopub.status.busy": "2025-04-01T00:17:05.512120Z",
     "iopub.status.idle": "2025-04-01T00:17:05.520466Z",
     "shell.execute_reply": "2025-04-01T00:17:05.519657Z"
    },
    "papermill": {
     "duration": 0.038574,
     "end_time": "2025-04-01T00:17:05.522289",
     "exception": false,
     "start_time": "2025-04-01T00:17:05.483715",
     "status": "completed"
    },
    "tags": []
   },
   "outputs": [
    {
     "name": "stdout",
     "output_type": "stream",
     "text": [
      "Total predictions:  730 \n",
      "\n"
     ]
    }
   ],
   "source": [
    "# We apply the trained model\n",
    "\n",
    "rainfall_predictions = xgbc_result.predict_proba(rainfall_test)\n",
    "\n",
    "# We review the result\n",
    "\n",
    "print(\"Total predictions: \", len(rainfall_predictions), \"\\n\")"
   ]
  },
  {
   "cell_type": "code",
   "execution_count": 67,
   "id": "53ce55db",
   "metadata": {
    "execution": {
     "iopub.execute_input": "2025-04-01T00:17:05.579640Z",
     "iopub.status.busy": "2025-04-01T00:17:05.579276Z",
     "iopub.status.idle": "2025-04-01T00:17:05.586945Z",
     "shell.execute_reply": "2025-04-01T00:17:05.585896Z"
    },
    "papermill": {
     "duration": 0.03773,
     "end_time": "2025-04-01T00:17:05.588498",
     "exception": false,
     "start_time": "2025-04-01T00:17:05.550768",
     "status": "completed"
    },
    "tags": []
   },
   "outputs": [
    {
     "name": "stdout",
     "output_type": "stream",
     "text": [
      "Shape Rainfall Submission: (730, 2) \n",
      "Dataframe Rainfall Submission:\n",
      "      id  rainfall\n",
      "0  2190  0.998334\n",
      "1  2191  0.995355\n",
      "2  2192  0.967212\n",
      "3  2193  0.354371\n",
      "4  2194  0.047262\n"
     ]
    }
   ],
   "source": [
    "# We create the dataframe\n",
    "\n",
    "rainfall_submission = pd.DataFrame({\n",
    "    \"id\" : df_test[\"id\"], \n",
    "    \"rainfall\" : rainfall_predictions[:, 1]\n",
    "})\n",
    "\n",
    "# We review the result\n",
    "\n",
    "print(\n",
    "    f\"Shape Rainfall Submission: {rainfall_submission.shape}\",\n",
    "    f\"\\nDataframe Rainfall Submission:\\n {rainfall_submission.head(5)}\"\n",
    ")"
   ]
  },
  {
   "cell_type": "code",
   "execution_count": 68,
   "id": "b003a2a0",
   "metadata": {
    "execution": {
     "iopub.execute_input": "2025-04-01T00:17:05.645677Z",
     "iopub.status.busy": "2025-04-01T00:17:05.645301Z",
     "iopub.status.idle": "2025-04-01T00:17:05.656285Z",
     "shell.execute_reply": "2025-04-01T00:17:05.655227Z"
    },
    "papermill": {
     "duration": 0.042192,
     "end_time": "2025-04-01T00:17:05.658224",
     "exception": false,
     "start_time": "2025-04-01T00:17:05.616032",
     "status": "completed"
    },
    "tags": []
   },
   "outputs": [],
   "source": [
    "# We convert the dataframe to a csv file\n",
    "\n",
    "rainfall_submission.to_csv(\"submission.csv\", index=False)"
   ]
  }
 ],
 "metadata": {
  "kaggle": {
   "accelerator": "none",
   "dataSources": [
    {
     "databundleVersionId": 11251744,
     "sourceId": 91714,
     "sourceType": "competition"
    }
   ],
   "dockerImageVersionId": 30918,
   "isGpuEnabled": false,
   "isInternetEnabled": true,
   "language": "python",
   "sourceType": "notebook"
  },
  "kernelspec": {
   "display_name": "Python 3",
   "language": "python",
   "name": "python3"
  },
  "language_info": {
   "codemirror_mode": {
    "name": "ipython",
    "version": 3
   },
   "file_extension": ".py",
   "mimetype": "text/x-python",
   "name": "python",
   "nbconvert_exporter": "python",
   "pygments_lexer": "ipython3",
   "version": "3.10.12"
  },
  "papermill": {
   "default_parameters": {},
   "duration": 166.934839,
   "end_time": "2025-04-01T00:17:06.407210",
   "environment_variables": {},
   "exception": null,
   "input_path": "__notebook__.ipynb",
   "output_path": "__notebook__.ipynb",
   "parameters": {},
   "start_time": "2025-04-01T00:14:19.472371",
   "version": "2.6.0"
  }
 },
 "nbformat": 4,
 "nbformat_minor": 5
}
